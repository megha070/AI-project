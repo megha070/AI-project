{
 "cells": [
  {
   "cell_type": "code",
   "execution_count": 1,
   "metadata": {},
   "outputs": [],
   "source": [
    "import os\n",
    "from PIL import Image\n",
    "import matplotlib.pyplot as plt\n",
    "import matplotlib.image as mpimg"
   ]
  },
  {
   "cell_type": "code",
   "execution_count": 2,
   "metadata": {},
   "outputs": [
    {
     "name": "stdout",
     "output_type": "stream",
     "text": [
      "154.Trieu_Le_D\n",
      "131.Mau_Thanh_Th\n",
      "085.Toulive\n",
      "016.Dang_L\n",
      "088.Trinh_Thang_B\n",
      "122.La_Thanh_H\n",
      "021.Dustin_Phuc_Ng\n",
      "039.KhacVi\n",
      "094.Tuan_Hu\n",
      "112.IU\n",
      "083.ThanhTr\n",
      "100.Angela_Ba\n",
      "102.Cao_Thien_Tr\n",
      "009.Chi_Th\n",
      "103.Cha_Mi\n",
      "113.Khong_Tu_Qu\n",
      "022.Duy_Kh\n",
      "007.Chau_KP\n",
      "059.Ngo_Kien_H\n",
      "026.Hac_Hoa_K\n",
      "149.Thuy_H\n",
      "124.Le_Cat_Trong_L\n",
      "073.Quang_Tr\n",
      "076.Sky_ST\n",
      "161.Vo_Hoang_Y\n",
      "037.Justatee\n",
      "028.Ho_Quang_H\n",
      "034.Huynh_Ph\n",
      "159.Van_Mai_H\n",
      "048.Lee_Jong_S\n",
      "089.Trong_Hie\n",
      "099.Amber\n",
      "017.Dao_Ba_L\n",
      "114.Kieu_Tr\n",
      "147.Thu_M\n",
      "081.Thanh_D\n",
      "145.Suzy\n",
      "013.Dam_Vinh_H\n",
      "010.Chu_B\n",
      "132.Mid_Ng\n",
      "051.Lou_Ho\n",
      "078.ST\n",
      "061.Nguyen_Phi_Hu\n",
      "116.Kim_Ji_W\n",
      "148.Thu_Tr\n",
      "130.Mai_Ng\n",
      "003.BD_Tran\n",
      "065.Ong_Cao_Th\n",
      "095.Tung_Dg\n",
      "139.Ngoc_Qu\n",
      "092.TruonGNam_th\n",
      "104.Chau_B\n",
      "111.Hang_Ng\n",
      "030.Hoai_L\n",
      "029.Ho_Trung_D\n",
      "097.UngHoaP\n",
      "033.Huynh_L\n",
      "067.Pham_Hong_Ph\n",
      "058.Ngo_Diec_P\n",
      "140.Nguyen_Thi_Tram\n",
      "071.Quang_B\n",
      "041.Kieu_Minh_T\n",
      "098.V_rau\n",
      "023.Erik\n",
      "119.Kim_Ph\n",
      "006.Chau_GK\n",
      "152.Trang_K\n",
      "063.Nhan_Phuc_V\n",
      "072.Quang_Ha\n",
      "075.Rym\n",
      "090.Truc_nh\n",
      "096.Ung_DaiV\n",
      "064.Noo_Phuoc_Th\n",
      "062.Nguyen_Tran_Trung_Qu\n",
      "025.Ha_Anh_T\n",
      "080.Thai_V\n",
      "117.Kim_Ng\n",
      "110.H_Hen_N\n",
      "077.Soobin_HS\n",
      "018.De_C\n",
      "079.Ta_Quang_T\n",
      "136.Miu_L\n",
      "050.Long_Nh\n",
      "014.Dan_Ng\n",
      "070.Phan_M_Quy\n",
      "093.TruongThe_V\n",
      "141.Pham_H\n",
      "153.Trang_Ph\n",
      "144.Quynh_Anh_Sh\n",
      "151.Tran_Kieu_A\n",
      "043.L_HA\n",
      "044.Lam_Canh_T\n",
      "129.Mai_H\n",
      "082.Thanh_Lo\n",
      "004.Binz\n",
      "032.Huy_Tr\n",
      "001.ALI_HD\n",
      "128.Ly_Nha_K\n",
      "042.Kim_L\n",
      "027.Hamtet_Tr\n",
      "035.Isaac\n",
      "015.Dan_Trg\n",
      "036.Jun_Ph\n",
      "040.Khuong_Ng\n",
      "031.Hoang_Rap\n",
      "157.Uyen_L\n",
      "158.Van_h\n",
      "107.Duong_M\n",
      "160.Viet_H\n",
      "069.Phan_A\n",
      "123.Lan_Kh\n",
      "156.Tu_H\n",
      "002.LeDuong_BL\n",
      "066.OnlyC\n",
      "086.Tran Dinh Q\n",
      "053.Luong_Manh_H\n",
      "115.Kim_Hye_S\n",
      "052.Luong_Bang_Q\n",
      "045.Lam_Hu\n",
      "138.Ngo_Thanh_V\n",
      "060.Nguyen_Khang\n",
      "164.Yen_Nhi_H\n",
      "106.Do_My_L\n",
      "024.Gin_Tuan_K\n",
      "057.Nam_Cuog\n",
      "101.Cao_Ng\n",
      "163.Xa_Thi_M\n",
      "008.Chi_D\n",
      "135.Minh_T\n",
      "087.Tran Th\n",
      "133.Minh_H\n",
      "105.Dich_Le_Nhiet\n",
      "055.Ly_Dich_P\n",
      "068.Pham_Tr\n",
      "150.Toc_T\n",
      "126.Le_Thanh_Th\n",
      "142.Pham_My_L\n",
      "155.Truong_Quynh_A\n",
      "146.Tam_T\n",
      "108.Gil_L\n",
      "056.Mai_Tai_Ph\n",
      "019.Don_Ng\n",
      "084.TIM\n",
      "012.Dai_Nhan\n",
      "011.Cong_To\n",
      "038.Kenvin_Kh\n",
      "091.TrungQua\n",
      "047.Lam_Vinh_H\n",
      "120.Kim_So_H\n",
      "074.Quy_B\n",
      "125.Le_Ph\n",
      "109.Go_Joon_H\n",
      "137.My_T\n",
      "134.Minh_Tr\n",
      "005.Bui_AT\n",
      "054.Luong_The_Th\n",
      "143.Pham_Thanh_H\n",
      "127.Luu-Diec_P\n",
      "049.Lee_Min_H\n",
      "121.Kim_Yoo_J\n",
      "118.Kim_Nh\n",
      "020.Duong_D\n",
      "162.Vu_Cat_T\n",
      "046.Lam_Tr\n"
     ]
    }
   ],
   "source": [
    "rootdir = 'Eardata/Images'\n",
    "folders = []\n",
    "for file in os.listdir(rootdir):\n",
    "    print(file)\n",
    "    folders.append(file)"
   ]
  },
  {
   "cell_type": "code",
   "execution_count": 3,
   "metadata": {},
   "outputs": [
    {
     "data": {
      "text/plain": [
       "['154.Trieu_Le_D',\n",
       " '131.Mau_Thanh_Th',\n",
       " '085.Toulive',\n",
       " '016.Dang_L',\n",
       " '088.Trinh_Thang_B',\n",
       " '122.La_Thanh_H',\n",
       " '021.Dustin_Phuc_Ng',\n",
       " '039.KhacVi',\n",
       " '094.Tuan_Hu',\n",
       " '112.IU',\n",
       " '083.ThanhTr',\n",
       " '100.Angela_Ba',\n",
       " '102.Cao_Thien_Tr',\n",
       " '009.Chi_Th',\n",
       " '103.Cha_Mi',\n",
       " '113.Khong_Tu_Qu',\n",
       " '022.Duy_Kh',\n",
       " '007.Chau_KP',\n",
       " '059.Ngo_Kien_H',\n",
       " '026.Hac_Hoa_K',\n",
       " '149.Thuy_H',\n",
       " '124.Le_Cat_Trong_L',\n",
       " '073.Quang_Tr',\n",
       " '076.Sky_ST',\n",
       " '161.Vo_Hoang_Y',\n",
       " '037.Justatee',\n",
       " '028.Ho_Quang_H',\n",
       " '034.Huynh_Ph',\n",
       " '159.Van_Mai_H',\n",
       " '048.Lee_Jong_S',\n",
       " '089.Trong_Hie',\n",
       " '099.Amber',\n",
       " '017.Dao_Ba_L',\n",
       " '114.Kieu_Tr',\n",
       " '147.Thu_M',\n",
       " '081.Thanh_D',\n",
       " '145.Suzy',\n",
       " '013.Dam_Vinh_H',\n",
       " '010.Chu_B',\n",
       " '132.Mid_Ng',\n",
       " '051.Lou_Ho',\n",
       " '078.ST',\n",
       " '061.Nguyen_Phi_Hu',\n",
       " '116.Kim_Ji_W',\n",
       " '148.Thu_Tr',\n",
       " '130.Mai_Ng',\n",
       " '003.BD_Tran',\n",
       " '065.Ong_Cao_Th',\n",
       " '095.Tung_Dg',\n",
       " '139.Ngoc_Qu',\n",
       " '092.TruonGNam_th',\n",
       " '104.Chau_B',\n",
       " '111.Hang_Ng',\n",
       " '030.Hoai_L',\n",
       " '029.Ho_Trung_D',\n",
       " '097.UngHoaP',\n",
       " '033.Huynh_L',\n",
       " '067.Pham_Hong_Ph',\n",
       " '058.Ngo_Diec_P',\n",
       " '140.Nguyen_Thi_Tram',\n",
       " '071.Quang_B',\n",
       " '041.Kieu_Minh_T',\n",
       " '098.V_rau',\n",
       " '023.Erik',\n",
       " '119.Kim_Ph',\n",
       " '006.Chau_GK',\n",
       " '152.Trang_K',\n",
       " '063.Nhan_Phuc_V',\n",
       " '072.Quang_Ha',\n",
       " '075.Rym',\n",
       " '090.Truc_nh',\n",
       " '096.Ung_DaiV',\n",
       " '064.Noo_Phuoc_Th',\n",
       " '062.Nguyen_Tran_Trung_Qu',\n",
       " '025.Ha_Anh_T',\n",
       " '080.Thai_V',\n",
       " '117.Kim_Ng',\n",
       " '110.H_Hen_N',\n",
       " '077.Soobin_HS',\n",
       " '018.De_C',\n",
       " '079.Ta_Quang_T',\n",
       " '136.Miu_L',\n",
       " '050.Long_Nh',\n",
       " '014.Dan_Ng',\n",
       " '070.Phan_M_Quy',\n",
       " '093.TruongThe_V',\n",
       " '141.Pham_H',\n",
       " '153.Trang_Ph',\n",
       " '144.Quynh_Anh_Sh',\n",
       " '151.Tran_Kieu_A',\n",
       " '043.L_HA',\n",
       " '044.Lam_Canh_T',\n",
       " '129.Mai_H',\n",
       " '082.Thanh_Lo',\n",
       " '004.Binz',\n",
       " '032.Huy_Tr',\n",
       " '001.ALI_HD',\n",
       " '128.Ly_Nha_K',\n",
       " '042.Kim_L',\n",
       " '027.Hamtet_Tr',\n",
       " '035.Isaac',\n",
       " '015.Dan_Trg',\n",
       " '036.Jun_Ph',\n",
       " '040.Khuong_Ng',\n",
       " '031.Hoang_Rap',\n",
       " '157.Uyen_L',\n",
       " '158.Van_h',\n",
       " '107.Duong_M',\n",
       " '160.Viet_H',\n",
       " '069.Phan_A',\n",
       " '123.Lan_Kh',\n",
       " '156.Tu_H',\n",
       " '002.LeDuong_BL',\n",
       " '066.OnlyC',\n",
       " '086.Tran Dinh Q',\n",
       " '053.Luong_Manh_H',\n",
       " '115.Kim_Hye_S',\n",
       " '052.Luong_Bang_Q',\n",
       " '045.Lam_Hu',\n",
       " '138.Ngo_Thanh_V',\n",
       " '060.Nguyen_Khang',\n",
       " '164.Yen_Nhi_H',\n",
       " '106.Do_My_L',\n",
       " '024.Gin_Tuan_K',\n",
       " '057.Nam_Cuog',\n",
       " '101.Cao_Ng',\n",
       " '163.Xa_Thi_M',\n",
       " '008.Chi_D',\n",
       " '135.Minh_T',\n",
       " '087.Tran Th',\n",
       " '133.Minh_H',\n",
       " '105.Dich_Le_Nhiet',\n",
       " '055.Ly_Dich_P',\n",
       " '068.Pham_Tr',\n",
       " '150.Toc_T',\n",
       " '126.Le_Thanh_Th',\n",
       " '142.Pham_My_L',\n",
       " '155.Truong_Quynh_A',\n",
       " '146.Tam_T',\n",
       " '108.Gil_L',\n",
       " '056.Mai_Tai_Ph',\n",
       " '019.Don_Ng',\n",
       " '084.TIM',\n",
       " '012.Dai_Nhan',\n",
       " '011.Cong_To',\n",
       " '038.Kenvin_Kh',\n",
       " '091.TrungQua',\n",
       " '047.Lam_Vinh_H',\n",
       " '120.Kim_So_H',\n",
       " '074.Quy_B',\n",
       " '125.Le_Ph',\n",
       " '109.Go_Joon_H',\n",
       " '137.My_T',\n",
       " '134.Minh_Tr',\n",
       " '005.Bui_AT',\n",
       " '054.Luong_The_Th',\n",
       " '143.Pham_Thanh_H',\n",
       " '127.Luu-Diec_P',\n",
       " '049.Lee_Min_H',\n",
       " '121.Kim_Yoo_J',\n",
       " '118.Kim_Nh',\n",
       " '020.Duong_D',\n",
       " '162.Vu_Cat_T',\n",
       " '046.Lam_Tr']"
      ]
     },
     "execution_count": 3,
     "metadata": {},
     "output_type": "execute_result"
    }
   ],
   "source": [
    "folders"
   ]
  },
  {
   "cell_type": "code",
   "execution_count": null,
   "metadata": {},
   "outputs": [],
   "source": [
    "x=[]\n",
    "y=[]\n",
    "dict_Img=[]\n",
    "preprocessImg = []\n",
    "ratio = []\n",
    "count = 0\n",
    "folder_id=0\n",
    "img_with_morewidth = 0\n",
    "for dire in folders:\n",
    "    path = rootdir + '/'+dire\n",
    "    for image in os.listdir(path):\n",
    "        cnt_img = 0\n",
    "        image_path = path + '/' + image\n",
    "        img = Image.open(image_path)\n",
    "        width,height = img.size\n",
    "        x.append(width)\n",
    "        y.append(height)\n",
    "        r = height/width\n",
    "        ratio.append(r)\n",
    "        if(r<1):\n",
    "            count = count+1\n",
    "        if(height < width):\n",
    "            cnt_img=cnt_img+1\n",
    "            img_with_morewidth = img_with_morewidth+1;\n",
    "            img_path = path+'/'+image\n",
    "            preprocessImg.append(img_path)"
   ]
  },
  {
   "cell_type": "code",
   "execution_count": null,
   "metadata": {},
   "outputs": [],
   "source": [
    "ratio"
   ]
  },
  {
   "cell_type": "code",
   "execution_count": null,
   "metadata": {},
   "outputs": [],
   "source": [
    "img_with_morewidth"
   ]
  },
  {
   "cell_type": "code",
   "execution_count": null,
   "metadata": {},
   "outputs": [],
   "source": [
    "count"
   ]
  },
  {
   "cell_type": "code",
   "execution_count": null,
   "metadata": {},
   "outputs": [],
   "source": [
    "preprocessImg"
   ]
  },
  {
   "cell_type": "code",
   "execution_count": null,
   "metadata": {},
   "outputs": [],
   "source": [
    "ht = dict()\n",
    "for i in range(len(x)):\n",
    "    if x[i] in ht.keys(): \n",
    "        ht[x[i]] += 1\n",
    "    else: \n",
    "        ht[x[i]] = 1\n",
    "\n",
    "for u in ht: \n",
    "    print(u, \" \", ht[u])"
   ]
  },
  {
   "cell_type": "code",
   "execution_count": null,
   "metadata": {},
   "outputs": [],
   "source": [
    "wt = dict()\n",
    "for i in range(len(y)):\n",
    "    if y[i] in wt.keys(): \n",
    "        wt[y[i]] += 1\n",
    "    else: \n",
    "        wt[y[i]] = 1\n",
    "\n",
    "for t in wt: \n",
    "    print(t, \" \", wt[t])"
   ]
  },
  {
   "cell_type": "code",
   "execution_count": null,
   "metadata": {},
   "outputs": [],
   "source": [
    "for t in wt:\n",
    "    print(wt[t])"
   ]
  },
  {
   "cell_type": "code",
   "execution_count": null,
   "metadata": {},
   "outputs": [],
   "source": [
    "for t in wt:\n",
    "    print(t)"
   ]
  },
  {
   "cell_type": "code",
   "execution_count": null,
   "metadata": {},
   "outputs": [],
   "source": [
    "plt.bar(*zip(*ht.items()))\n",
    "plt.title('Height of Images')\n",
    "plt.xlabel('Height(in pixels)')\n",
    "plt.ylabel('No. of Images')\n",
    "plt.show()"
   ]
  },
  {
   "cell_type": "code",
   "execution_count": null,
   "metadata": {},
   "outputs": [],
   "source": [
    "ans = 0;\n",
    "for u in ht:\n",
    "    print(ht[u])"
   ]
  },
  {
   "cell_type": "code",
   "execution_count": null,
   "metadata": {},
   "outputs": [],
   "source": [
    "for u in ht:\n",
    "    print(u);"
   ]
  },
  {
   "cell_type": "code",
   "execution_count": null,
   "metadata": {},
   "outputs": [],
   "source": [
    "plt.bar(*zip(*wt.items()))\n",
    "plt.title('width of Images')\n",
    "plt.xlabel('Width(in pixels)')\n",
    "plt.ylabel('No. of Images')\n",
    "plt.show()"
   ]
  },
  {
   "cell_type": "code",
   "execution_count": null,
   "metadata": {},
   "outputs": [],
   "source": [
    "max(x)"
   ]
  },
  {
   "cell_type": "code",
   "execution_count": null,
   "metadata": {},
   "outputs": [],
   "source": [
    "## no.of Images corresponding to maximum height\n",
    "maxht = max(ht, key=ht.get) \n",
    "print(maxht) "
   ]
  },
  {
   "cell_type": "code",
   "execution_count": null,
   "metadata": {},
   "outputs": [],
   "source": [
    "max(y)"
   ]
  },
  {
   "cell_type": "code",
   "execution_count": null,
   "metadata": {},
   "outputs": [],
   "source": [
    "## no.of Images corresponding to maximum width\n",
    "maxwt = max(wt, key=wt.get) \n",
    "print(maxwt) "
   ]
  },
  {
   "cell_type": "code",
   "execution_count": null,
   "metadata": {},
   "outputs": [],
   "source": [
    "min(x)"
   ]
  },
  {
   "cell_type": "code",
   "execution_count": null,
   "metadata": {},
   "outputs": [],
   "source": [
    "## no.of Images corresponding to minimum height\n",
    "minht = min(ht, key=ht.get) \n",
    "print(minht) "
   ]
  },
  {
   "cell_type": "code",
   "execution_count": null,
   "metadata": {},
   "outputs": [],
   "source": [
    "min(y)"
   ]
  },
  {
   "cell_type": "code",
   "execution_count": null,
   "metadata": {},
   "outputs": [],
   "source": [
    "## no.of Images corresponding to minimum width\n",
    "minwt = min(wt, key=wt.get) \n",
    "print(minwt) "
   ]
  },
  {
   "cell_type": "code",
   "execution_count": null,
   "metadata": {},
   "outputs": [],
   "source": [
    "range_ht = max(x)-min(x)\n",
    "print(range_ht)"
   ]
  },
  {
   "cell_type": "code",
   "execution_count": null,
   "metadata": {},
   "outputs": [],
   "source": [
    "range_wt = max(y)-min(y)\n",
    "print(range_wt)"
   ]
  },
  {
   "cell_type": "code",
   "execution_count": null,
   "metadata": {},
   "outputs": [],
   "source": [
    "import cv2\n",
    "dict_folder= dict()\n",
    "folders = []\n",
    "folder_id=0\n",
    "\n",
    "for file in os.listdir(rootdir):\n",
    "    count=0\n",
    "    print(file)\n",
    "    folders.append(file)\n",
    "    folder_id=folder_id+1\n",
    "    img = cv2.imread(os.path.join(rootdir, file))\n",
    "    if img is not None:\n",
    "        count=count+1\n",
    "    dict_folder[folder_id]=count"
   ]
  },
  {
   "cell_type": "code",
   "execution_count": null,
   "metadata": {},
   "outputs": [],
   "source": [
    "dict_folder"
   ]
  },
  {
   "cell_type": "code",
   "execution_count": null,
   "metadata": {},
   "outputs": [],
   "source": [
    "import statistics\n",
    "ht_mean = statistics.mean(x)\n",
    "print(ht_mean)"
   ]
  },
  {
   "cell_type": "code",
   "execution_count": null,
   "metadata": {},
   "outputs": [],
   "source": [
    "wt_mean = statistics.mean(y)\n",
    "print(wt_mean)"
   ]
  },
  {
   "cell_type": "code",
   "execution_count": null,
   "metadata": {},
   "outputs": [],
   "source": [
    "ht_median = statistics.median(x) \n",
    "print(ht_median)"
   ]
  },
  {
   "cell_type": "code",
   "execution_count": null,
   "metadata": {},
   "outputs": [],
   "source": [
    "wt_median = statistics.median(y)\n",
    "print(wt_median)"
   ]
  },
  {
   "cell_type": "code",
   "execution_count": null,
   "metadata": {},
   "outputs": [],
   "source": [
    "labels, data = [*zip(*wt.items())]  # 'transpose' items to parallel key, value lists\n",
    "\n",
    "# or backwards compatable    \n",
    "labels, data = wt.keys(), wt.values()\n",
    "\n",
    "plt.scatter(labels,data,s=10,alpha=0.7)\n",
    "plt.show()"
   ]
  },
  {
   "cell_type": "code",
   "execution_count": null,
   "metadata": {},
   "outputs": [],
   "source": [
    "labels_h, data_h = [*zip(*ht.items())]  # 'transpose' items to parallel key, value lists\n",
    "\n",
    "# or backwards compatable    \n",
    "labels_h, data_h= ht.keys(), ht.values()\n",
    "\n",
    "plt.scatter(labels_h,data_h,s=10,alpha=0.7)\n",
    "plt.show()"
   ]
  },
  {
   "cell_type": "code",
   "execution_count": null,
   "metadata": {},
   "outputs": [],
   "source": [
    "#correlation between height and width\n",
    "from scipy.stats.stats import pearsonr  \n",
    "pearsonr(x,y)"
   ]
  },
  {
   "cell_type": "code",
   "execution_count": null,
   "metadata": {},
   "outputs": [],
   "source": [
    "import numpy as np\n",
    "import cv2\n",
    "import math\n",
    "from scipy import ndimage\n",
    "\n",
    "img_before = cv2.imread('Eardataset/Images/001.ALI_HD/001 (1).jpg')\n",
    "\n",
    "cv2.imshow(\"Before\", img_before)    \n",
    "key = cv2.waitKey(0)\n",
    "\n",
    "img_gray = cv2.cvtColor(img_before, cv2.COLOR_BGR2GRAY)\n",
    "img_edges = cv2.Canny(img_gray, 100, 100, apertureSize=3)\n",
    "lines = cv2.HoughLinesP(img_edges, 1, math.pi / 180.0, 100, minLineLength=100, maxLineGap=5)\n",
    "\n",
    "angles = []\n",
    "\n",
    "for x1, y1, x2, y2 in lines[0]:\n",
    "    cv2.line(img_before, (x1, y1), (x2, y2), (255, 0, 0), 3)\n",
    "    angle = math.degrees(math.atan2(y2 - y1, x2 - x1))\n",
    "    angles.append(angle)\n",
    "\n",
    "median_angle = np.median(angles)\n",
    "img_rotated = ndimage.rotate(img_before, median_angle)\n",
    "\n",
    "print(format(median_angle))\n",
    "cv2.imwrite('rotated.jpg', img_rotated)  "
   ]
  },
  {
   "cell_type": "code",
   "execution_count": null,
   "metadata": {},
   "outputs": [],
   "source": []
  },
  {
   "cell_type": "code",
   "execution_count": null,
   "metadata": {},
   "outputs": [],
   "source": [
    "import numpy as np\n",
    "import cv2\n",
    "import math\n",
    "from scipy import ndimage"
   ]
  },
  {
   "cell_type": "code",
   "execution_count": null,
   "metadata": {},
   "outputs": [],
   "source": []
  }
 ],
 "metadata": {
  "kernelspec": {
   "display_name": "Python 3",
   "language": "python",
   "name": "python3"
  },
  "language_info": {
   "codemirror_mode": {
    "name": "ipython",
    "version": 3
   },
   "file_extension": ".py",
   "mimetype": "text/x-python",
   "name": "python",
   "nbconvert_exporter": "python",
   "pygments_lexer": "ipython3",
   "version": "3.6.10"
  }
 },
 "nbformat": 4,
 "nbformat_minor": 2
}
