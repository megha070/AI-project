{
 "cells": [
  {
   "cell_type": "code",
   "execution_count": 1,
   "metadata": {},
   "outputs": [],
   "source": [
    "import numpy as np\n",
    "import matplotlib.pyplot as plt\n",
    "import os\n",
    "from tqdm import tqdm\n",
    "from random import shuffle\n",
    "import cv2\n",
    "from ipynb.fs.full.read_data import *\n",
    "\n",
    "# cnt=0\n",
    "# for subdir, dirs, files in os.walk(rootdir):\n",
    "#     for file in files:\n",
    "#         path=os.path.join(subdir, file)\n",
    "#         num=path.split('(')[0]\n",
    "#         sec_num=num.split('/')\n",
    "#         #print(int(sec_num[1][0:3]))\n",
    "#         cnt+=1\n",
    "# print(cnt)  \n",
    "IMG_SIZE = 50\n",
    "LR = 1e-3\n",
    "\n",
    "MODEL_NAME = 'genderRecog-param-tun-epochs-noting-training-acc-testing-and-loss-{}-{}.model'.format(LR, 'CNN')"
   ]
  },
  {
   "cell_type": "code",
   "execution_count": 2,
   "metadata": {},
   "outputs": [],
   "source": [
    "# def label_img(img):\n",
    "#     num=img.split('(')[0]\n",
    "#     sec_num=num.split('/')\n",
    "#     my_num=int(sec_num[1][0:3])\n",
    "#     if my_num >= 1 and my_num <= 98:\n",
    "#         return [1,0]\n",
    "#     elif my_num >= 99 and my_num <=164:\n",
    "#         return [0,1]"
   ]
  },
  {
   "cell_type": "code",
   "execution_count": 3,
   "metadata": {},
   "outputs": [],
   "source": [
    "# def create_data():\n",
    "#     data = []\n",
    "#     for subdir, dirs, files in os.walk(rootdir):\n",
    "#         for file in files:\n",
    "#             #print(file)\n",
    "            \n",
    "#             path=os.path.join(subdir, file)\n",
    "#             label=label_img(path)\n",
    "#             file = cv2.resize(cv2.imread(path, cv2.IMREAD_GRAYSCALE), (IMG_SIZE,IMG_SIZE))\n",
    "            \n",
    "#             data.append([np.array(file),np.array(label)])\n",
    "            \n",
    "#     shuffle(data)\n",
    "#     #print(data[0])\n",
    "#     return data"
   ]
  },
  {
   "cell_type": "code",
   "execution_count": 4,
   "metadata": {},
   "outputs": [],
   "source": [
    "#create_data()\n",
    "\n",
    "data = create_data()"
   ]
  },
  {
   "cell_type": "code",
   "execution_count": 5,
   "metadata": {},
   "outputs": [
    {
     "name": "stderr",
     "output_type": "stream",
     "text": [
      "C:\\Users\\priya\\Anaconda3\\lib\\site-packages\\tensorflow\\python\\framework\\dtypes.py:516: FutureWarning: Passing (type, 1) or '1type' as a synonym of type is deprecated; in a future version of numpy, it will be understood as (type, (1,)) / '(1,)type'.\n",
      "  _np_qint8 = np.dtype([(\"qint8\", np.int8, 1)])\n",
      "C:\\Users\\priya\\Anaconda3\\lib\\site-packages\\tensorflow\\python\\framework\\dtypes.py:517: FutureWarning: Passing (type, 1) or '1type' as a synonym of type is deprecated; in a future version of numpy, it will be understood as (type, (1,)) / '(1,)type'.\n",
      "  _np_quint8 = np.dtype([(\"quint8\", np.uint8, 1)])\n",
      "C:\\Users\\priya\\Anaconda3\\lib\\site-packages\\tensorflow\\python\\framework\\dtypes.py:518: FutureWarning: Passing (type, 1) or '1type' as a synonym of type is deprecated; in a future version of numpy, it will be understood as (type, (1,)) / '(1,)type'.\n",
      "  _np_qint16 = np.dtype([(\"qint16\", np.int16, 1)])\n",
      "C:\\Users\\priya\\Anaconda3\\lib\\site-packages\\tensorflow\\python\\framework\\dtypes.py:519: FutureWarning: Passing (type, 1) or '1type' as a synonym of type is deprecated; in a future version of numpy, it will be understood as (type, (1,)) / '(1,)type'.\n",
      "  _np_quint16 = np.dtype([(\"quint16\", np.uint16, 1)])\n",
      "C:\\Users\\priya\\Anaconda3\\lib\\site-packages\\tensorflow\\python\\framework\\dtypes.py:520: FutureWarning: Passing (type, 1) or '1type' as a synonym of type is deprecated; in a future version of numpy, it will be understood as (type, (1,)) / '(1,)type'.\n",
      "  _np_qint32 = np.dtype([(\"qint32\", np.int32, 1)])\n",
      "C:\\Users\\priya\\Anaconda3\\lib\\site-packages\\tensorflow\\python\\framework\\dtypes.py:525: FutureWarning: Passing (type, 1) or '1type' as a synonym of type is deprecated; in a future version of numpy, it will be understood as (type, (1,)) / '(1,)type'.\n",
      "  np_resource = np.dtype([(\"resource\", np.ubyte, 1)])\n",
      "C:\\Users\\priya\\Anaconda3\\lib\\site-packages\\tensorboard\\compat\\tensorflow_stub\\dtypes.py:541: FutureWarning: Passing (type, 1) or '1type' as a synonym of type is deprecated; in a future version of numpy, it will be understood as (type, (1,)) / '(1,)type'.\n",
      "  _np_qint8 = np.dtype([(\"qint8\", np.int8, 1)])\n",
      "C:\\Users\\priya\\Anaconda3\\lib\\site-packages\\tensorboard\\compat\\tensorflow_stub\\dtypes.py:542: FutureWarning: Passing (type, 1) or '1type' as a synonym of type is deprecated; in a future version of numpy, it will be understood as (type, (1,)) / '(1,)type'.\n",
      "  _np_quint8 = np.dtype([(\"quint8\", np.uint8, 1)])\n",
      "C:\\Users\\priya\\Anaconda3\\lib\\site-packages\\tensorboard\\compat\\tensorflow_stub\\dtypes.py:543: FutureWarning: Passing (type, 1) or '1type' as a synonym of type is deprecated; in a future version of numpy, it will be understood as (type, (1,)) / '(1,)type'.\n",
      "  _np_qint16 = np.dtype([(\"qint16\", np.int16, 1)])\n",
      "C:\\Users\\priya\\Anaconda3\\lib\\site-packages\\tensorboard\\compat\\tensorflow_stub\\dtypes.py:544: FutureWarning: Passing (type, 1) or '1type' as a synonym of type is deprecated; in a future version of numpy, it will be understood as (type, (1,)) / '(1,)type'.\n",
      "  _np_quint16 = np.dtype([(\"quint16\", np.uint16, 1)])\n",
      "C:\\Users\\priya\\Anaconda3\\lib\\site-packages\\tensorboard\\compat\\tensorflow_stub\\dtypes.py:545: FutureWarning: Passing (type, 1) or '1type' as a synonym of type is deprecated; in a future version of numpy, it will be understood as (type, (1,)) / '(1,)type'.\n",
      "  _np_qint32 = np.dtype([(\"qint32\", np.int32, 1)])\n",
      "C:\\Users\\priya\\Anaconda3\\lib\\site-packages\\tensorboard\\compat\\tensorflow_stub\\dtypes.py:550: FutureWarning: Passing (type, 1) or '1type' as a synonym of type is deprecated; in a future version of numpy, it will be understood as (type, (1,)) / '(1,)type'.\n",
      "  np_resource = np.dtype([(\"resource\", np.ubyte, 1)])\n"
     ]
    },
    {
     "name": "stdout",
     "output_type": "stream",
     "text": [
      "curses is not supported on this machine (please install/reinstall curses for an optimal experience)\n",
      "WARNING:tensorflow:From C:\\Users\\priya\\Anaconda3\\lib\\site-packages\\tflearn\\helpers\\summarizer.py:9: The name tf.summary.merge is deprecated. Please use tf.compat.v1.summary.merge instead.\n",
      "\n",
      "WARNING:tensorflow:From C:\\Users\\priya\\Anaconda3\\lib\\site-packages\\tflearn\\helpers\\trainer.py:25: The name tf.summary.FileWriter is deprecated. Please use tf.compat.v1.summary.FileWriter instead.\n",
      "\n",
      "WARNING:tensorflow:From C:\\Users\\priya\\Anaconda3\\lib\\site-packages\\tflearn\\collections.py:13: The name tf.GraphKeys is deprecated. Please use tf.compat.v1.GraphKeys instead.\n",
      "\n",
      "WARNING:tensorflow:From C:\\Users\\priya\\Anaconda3\\lib\\site-packages\\tflearn\\config.py:123: The name tf.get_collection is deprecated. Please use tf.compat.v1.get_collection instead.\n",
      "\n",
      "WARNING:tensorflow:From C:\\Users\\priya\\Anaconda3\\lib\\site-packages\\tflearn\\config.py:129: The name tf.add_to_collection is deprecated. Please use tf.compat.v1.add_to_collection instead.\n",
      "\n",
      "WARNING:tensorflow:From C:\\Users\\priya\\Anaconda3\\lib\\site-packages\\tflearn\\config.py:131: The name tf.assign is deprecated. Please use tf.compat.v1.assign instead.\n",
      "\n",
      "WARNING:tensorflow:From C:\\Users\\priya\\Anaconda3\\lib\\site-packages\\tflearn\\layers\\core.py:81: The name tf.placeholder is deprecated. Please use tf.compat.v1.placeholder instead.\n",
      "\n",
      "WARNING:tensorflow:From C:\\Users\\priya\\Anaconda3\\lib\\site-packages\\tflearn\\initializations.py:119: calling UniformUnitScaling.__init__ (from tensorflow.python.ops.init_ops) with dtype is deprecated and will be removed in a future version.\n",
      "Instructions for updating:\n",
      "Call initializer instance with the dtype argument instead of passing it to the constructor\n",
      "WARNING:tensorflow:From C:\\Users\\priya\\Anaconda3\\lib\\site-packages\\tensorflow\\python\\util\\deprecation.py:507: UniformUnitScaling.__init__ (from tensorflow.python.ops.init_ops) is deprecated and will be removed in a future version.\n",
      "Instructions for updating:\n",
      "Use tf.initializers.variance_scaling instead with distribution=uniform to get equivalent behavior.\n",
      "WARNING:tensorflow:From C:\\Users\\priya\\Anaconda3\\lib\\site-packages\\tflearn\\layers\\conv.py:552: The name tf.nn.max_pool is deprecated. Please use tf.nn.max_pool2d instead.\n",
      "\n",
      "WARNING:tensorflow:From C:\\Users\\priya\\Anaconda3\\lib\\site-packages\\tflearn\\initializations.py:174: calling TruncatedNormal.__init__ (from tensorflow.python.ops.init_ops) with dtype is deprecated and will be removed in a future version.\n",
      "Instructions for updating:\n",
      "Call initializer instance with the dtype argument instead of passing it to the constructor\n",
      "WARNING:tensorflow:From C:\\Users\\priya\\Anaconda3\\lib\\site-packages\\tflearn\\layers\\core.py:239: calling dropout (from tensorflow.python.ops.nn_ops) with keep_prob is deprecated and will be removed in a future version.\n",
      "Instructions for updating:\n",
      "Please use `rate` instead of `keep_prob`. Rate should be set to `rate = 1 - keep_prob`.\n",
      "WARNING:tensorflow:From C:\\Users\\priya\\Anaconda3\\lib\\site-packages\\tflearn\\optimizers.py:238: The name tf.train.AdamOptimizer is deprecated. Please use tf.compat.v1.train.AdamOptimizer instead.\n",
      "\n",
      "WARNING:tensorflow:From C:\\Users\\priya\\Anaconda3\\lib\\site-packages\\tflearn\\objectives.py:66: calling reduce_sum_v1 (from tensorflow.python.ops.math_ops) with keep_dims is deprecated and will be removed in a future version.\n",
      "Instructions for updating:\n",
      "keep_dims is deprecated, use keepdims instead\n",
      "WARNING:tensorflow:From C:\\Users\\priya\\Anaconda3\\lib\\site-packages\\tflearn\\summaries.py:46: The name tf.summary.scalar is deprecated. Please use tf.compat.v1.summary.scalar instead.\n",
      "\n",
      "WARNING:tensorflow:From C:\\Users\\priya\\Anaconda3\\lib\\site-packages\\tensorflow\\python\\ops\\math_grad.py:1250: add_dispatch_support.<locals>.wrapper (from tensorflow.python.ops.array_ops) is deprecated and will be removed in a future version.\n",
      "Instructions for updating:\n",
      "Use tf.where in 2.0, which has the same broadcast rule as np.where\n",
      "WARNING:tensorflow:From C:\\Users\\priya\\Anaconda3\\lib\\site-packages\\tflearn\\helpers\\trainer.py:134: The name tf.train.Saver is deprecated. Please use tf.compat.v1.train.Saver instead.\n",
      "\n"
     ]
    }
   ],
   "source": [
    "import tflearn\n",
    "from tflearn.layers.conv import conv_2d, max_pool_2d\n",
    "from tflearn.layers.core import input_data, dropout, fully_connected\n",
    "from tflearn.layers.estimator import regression\n",
    "import warnings\n",
    "warnings.filterwarnings('ignore')\n",
    "import tensorflow as tf\n",
    "tf.reset_default_graph()\n",
    "#Pooling layers are a way to reduce the size \n",
    "#of the image interpretation in order to speed up computation,\n",
    "#and it makes the detected features more robust.\n",
    "\n",
    "#Here max_pooling is used\n",
    "\n",
    "#pooling is a way to prevent overfitting, since we are removing some features from the input image.\n",
    "\n",
    "# input layer will be 50*50\n",
    "convnet = input_data(shape=[None, IMG_SIZE, IMG_SIZE, 1], name='input')\n",
    "\n",
    "convnet = conv_2d(convnet, 32, 5, activation='relu')\n",
    "convnet = max_pool_2d(convnet, 5)\n",
    "\n",
    "convnet = conv_2d(convnet, 64, 5, activation='relu')\n",
    "convnet = max_pool_2d(convnet, 5)\n",
    "\n",
    "convnet = conv_2d(convnet, 128, 5, activation='relu')\n",
    "convnet = max_pool_2d(convnet, 5)\n",
    "\n",
    "convnet = conv_2d(convnet, 64, 5, activation='relu')\n",
    "convnet = max_pool_2d(convnet, 5)\n",
    "\n",
    "convnet = conv_2d(convnet, 32, 5, activation='relu')\n",
    "convnet = max_pool_2d(convnet, 5)\n",
    "\n",
    "convnet = fully_connected(convnet, 1024, activation='relu')\n",
    "convnet = dropout(convnet, 0.8)\n",
    "# 2 neurons in the output layer(Male/female)\n",
    "convnet = fully_connected(convnet, 2, activation='softmax')\n",
    "#Categorical crossentropy is a loss function that is used for single label\n",
    "#categorization. This is when only one category is applicable for each data point. \n",
    "#In other words, an example can belong to one class only.\n",
    "convnet = regression(convnet, optimizer='adam', learning_rate=LR, loss='categorical_crossentropy', name='targets')\n",
    "\n",
    "model = tflearn.DNN(convnet, tensorboard_dir='log')\n",
    "import warnings\n",
    "warnings.filterwarnings('ignore')"
   ]
  },
  {
   "cell_type": "code",
   "execution_count": 33,
   "metadata": {},
   "outputs": [
    {
     "name": "stdout",
     "output_type": "stream",
     "text": [
      "WARNING:tensorflow:From C:\\Users\\priya\\Anaconda3\\lib\\site-packages\\tensorflow\\python\\training\\saver.py:1276: checkpoint_exists (from tensorflow.python.training.checkpoint_management) is deprecated and will be removed in a future version.\n",
      "Instructions for updating:\n",
      "Use standard file APIs to check for files with this prefix.\n",
      "INFO:tensorflow:Restoring parameters from C:\\Users\\priya\\Documents\\Gender-Recog\\genderRecog-param-tun-epochs-noting-training-acc-testing-and-loss-0.001-CNN.model\n",
      "model loaded!\n"
     ]
    }
   ],
   "source": [
    "if os.path.exists('{}.meta'.format(MODEL_NAME)):\n",
    "    model.load(MODEL_NAME)\n",
    "    print('model loaded!')"
   ]
  },
  {
   "cell_type": "code",
   "execution_count": 7,
   "metadata": {},
   "outputs": [],
   "source": [
    "train = data[:-7000]\n",
    "test = data[-7000:]"
   ]
  },
  {
   "cell_type": "code",
   "execution_count": 8,
   "metadata": {},
   "outputs": [],
   "source": [
    "X = np.array([i[0] for i in train]).reshape(-1,IMG_SIZE,IMG_SIZE,1)\n",
    "Y = [i[1] for i in train]\n",
    "\n",
    "test_x = np.array([i[0] for i in test]).reshape(-1,IMG_SIZE,IMG_SIZE,1)\n",
    "test_y = [i[1] for i in test]\n",
    "\n"
   ]
  },
  {
   "cell_type": "code",
   "execution_count": 9,
   "metadata": {},
   "outputs": [
    {
     "data": {
      "text/plain": [
       "[1, 2, 3, 4, 5, 6, 7, 8, 9, 10, 11]"
      ]
     },
     "execution_count": 9,
     "metadata": {},
     "output_type": "execute_result"
    }
   ],
   "source": [
    "epochs = []\n",
    "for i in range(1,12):\n",
    "    epochs.append(i)\n",
    "    \n",
    "epochs"
   ]
  },
  {
   "cell_type": "code",
   "execution_count": 10,
   "metadata": {},
   "outputs": [
    {
     "name": "stdout",
     "output_type": "stream",
     "text": [
      "Training Step: 22109  | total loss: \u001b[1m\u001b[32m0.06397\u001b[0m\u001b[0m | time: 15.716s\n",
      "| Adam | epoch: 066 | loss: 0.06397 - acc: 0.9763 -- iter: 21376/21412\n",
      "Training Step: 22110  | total loss: \u001b[1m\u001b[32m0.06182\u001b[0m\u001b[0m | time: 17.281s\n",
      "| Adam | epoch: 066 | loss: 0.06182 - acc: 0.9771 | val_loss: 0.87802 - val_acc: 0.8493 -- iter: 21412/21412\n",
      "--\n",
      "INFO:tensorflow:C:\\Users\\priya\\Documents\\Gender-Recog\\genderRecog-param-tun-epochs-noting-training-acc-testing-and-loss-0.001-CNN.model is not in all_model_checkpoint_paths. Manually adding it.\n"
     ]
    }
   ],
   "source": [
    "my_val_acc = []\n",
    "my_loss = []\n",
    "# val_loss and val_acc are taken from saved checkpoints,\n",
    "#due to absence of varible related to traing accuracy and loss, had to collect them manually\n",
    "for i in epochs:\n",
    "    model.fit({'input': X}, {'targets': Y}, n_epoch=i, validation_set=({'input': test_x}, {'targets': test_y}), \n",
    "    snapshot_step=500, show_metric=True, run_id=MODEL_NAME)\n",
    "    model.save(MODEL_NAME)\n",
    "    my_val_acc.append(tf.train.load_variable(\n",
    "    \"./\", 'val_acc'\n",
    "    ))\n",
    "    my_loss.append(tf.train.load_variable(\n",
    "    \"./\", 'val_loss'\n",
    "    ))"
   ]
  },
  {
   "cell_type": "code",
   "execution_count": 11,
   "metadata": {},
   "outputs": [
    {
     "data": {
      "text/plain": [
       "0.8492857"
      ]
     },
     "execution_count": 11,
     "metadata": {},
     "output_type": "execute_result"
    }
   ],
   "source": [
    "tf.train.load_variable(\n",
    "    \"./\", 'val_acc'\n",
    ")"
   ]
  },
  {
   "cell_type": "code",
   "execution_count": 12,
   "metadata": {},
   "outputs": [
    {
     "data": {
      "text/plain": [
       "[0.78985715,\n",
       " 0.79242855,\n",
       " 0.8297143,\n",
       " 0.8618571,\n",
       " 0.8511429,\n",
       " 0.86142856,\n",
       " 0.86,\n",
       " 0.8495714,\n",
       " 0.8582857,\n",
       " 0.84485716,\n",
       " 0.8492857]"
      ]
     },
     "execution_count": 12,
     "metadata": {},
     "output_type": "execute_result"
    }
   ],
   "source": [
    "my_val_acc"
   ]
  },
  {
   "cell_type": "code",
   "execution_count": 13,
   "metadata": {},
   "outputs": [
    {
     "data": {
      "text/plain": [
       "[0.4659406,\n",
       " 0.43729535,\n",
       " 0.3878984,\n",
       " 0.33754066,\n",
       " 0.37264317,\n",
       " 0.41655797,\n",
       " 0.5370079,\n",
       " 0.6318699,\n",
       " 0.67125565,\n",
       " 0.80463576,\n",
       " 0.8780186]"
      ]
     },
     "execution_count": 13,
     "metadata": {},
     "output_type": "execute_result"
    }
   ],
   "source": [
    "my_loss"
   ]
  },
  {
   "cell_type": "code",
   "execution_count": 31,
   "metadata": {},
   "outputs": [
    {
     "data": {
      "image/png": "[encoded data removed]",
      "text/plain": [
       "<Figure size 432x288 with 12 Axes>"
      ]
     },
     "metadata": {
      "needs_background": "light"
     },
     "output_type": "display_data"
    }
   ],
   "source": [
    "import matplotlib.pyplot as plt\n",
    "test = data[-500:]\n",
    "shuffle(test)\n",
    "# for num,my_data in enumerate(test[:100]):\n",
    "#     print(num)\n",
    "#     print(my_data[1])\n",
    "\n",
    "fig=plt.figure()\n",
    "\n",
    "for num,my_data in enumerate(test[:12]):\n",
    "    \n",
    "    \n",
    "    img_num = my_data[1]\n",
    "    img_data = my_data[0]\n",
    "    \n",
    "    y = fig.add_subplot(3,4,num+1)\n",
    "    orig = img_data\n",
    "    my_data = img_data.reshape(IMG_SIZE,IMG_SIZE,1)\n",
    "    #model_out = model.predict([data])[0]\n",
    "    model_out = model.predict([my_data])[0]\n",
    "    \n",
    "    if np.argmax(model_out) == 1: str_label='Pred:F'\n",
    "    else: str_label='Pred:M'\n",
    "    if img_num[0] == 1: my_label=' Act:M'\n",
    "    else:\n",
    "        my_label=' Act:F'\n",
    "    y.imshow(orig,cmap='gray')\n",
    "    plt.title(str_label+my_label)\n",
    "    y.axes.get_xaxis().set_visible(False)\n",
    "    y.axes.get_yaxis().set_visible(False)\n",
    "plt.show()"
   ]
  },
  {
   "cell_type": "code",
   "execution_count": 15,
   "metadata": {},
   "outputs": [],
   "source": [
    "# tf.train.load_variable(\n",
    "#     \"./\",'val_acc'\n",
    "# )"
   ]
  },
  {
   "cell_type": "code",
   "execution_count": 16,
   "metadata": {},
   "outputs": [],
   "source": [
    "# my_list=[]\n",
    "# my_list.append(tf.train.load_variable(\n",
    "#     \"./\", 'val_loss'\n",
    "# ))"
   ]
  },
  {
   "cell_type": "code",
   "execution_count": 17,
   "metadata": {},
   "outputs": [],
   "source": [
    "# my_list"
   ]
  },
  {
   "cell_type": "code",
   "execution_count": 18,
   "metadata": {},
   "outputs": [],
   "source": [
    "# epochs"
   ]
  },
  {
   "cell_type": "code",
   "execution_count": 19,
   "metadata": {},
   "outputs": [],
   "source": [
    "# act_epochs=[1]\n",
    "# for i in range(1,11):\n",
    "#     act_epochs.append(epochs[i]+act_epochs[i-1])"
   ]
  },
  {
   "cell_type": "code",
   "execution_count": null,
   "metadata": {},
   "outputs": [],
   "source": []
  },
  {
   "cell_type": "code",
   "execution_count": null,
   "metadata": {},
   "outputs": [],
   "source": [
    "# plt.plot(act_epochs, my_val_acc, color='red')\n",
    "# plt.xlabel('No. of epochs')\n",
    "# plt.ylabel('Validation Accuarcy')\n",
    "# plt.title('Variation in val_acc with no. of epochs')\n",
    "# plt.show()"
   ]
  },
  {
   "cell_type": "code",
   "execution_count": null,
   "metadata": {},
   "outputs": [],
   "source": [
    "# plt.plot(act_epochs, my_loss, color='green')\n",
    "# plt.xlabel('No. of epochs')\n",
    "# plt.ylabel('Validation Loss')\n",
    "# plt.title('Variation in val_loss with no. of epochs')\n",
    "# plt.show()"
   ]
  },
  {
   "cell_type": "markdown",
   "metadata": {},
   "source": [
    "### val_loss starts increasing, val_acc starts decreasing. This means model is cramming values not learning\n",
    "\n",
    "### val_loss starts increasing, val_acc also increases.This could be case of overfitting or diverse probability values in cases where softmax is being used in output layer\n",
    "\n",
    "### val_loss starts decreasing, val_acc starts increasing. This is also fine as that means model built is learning and working fine."
   ]
  },
  {
   "cell_type": "markdown",
   "metadata": {},
   "source": [
    "#### So here, it can be seen that for 15 epochs the loss is low and validation accuarcy is high, for further epochs either the model is overfitting or cramming the values not learning (case 1)"
   ]
  },
  {
   "cell_type": "code",
   "execution_count": null,
   "metadata": {},
   "outputs": [],
   "source": []
  },
  {
   "cell_type": "code",
   "execution_count": null,
   "metadata": {},
   "outputs": [],
   "source": [
    "import tensorflow as tf\n",
    "tf.train.list_variables(\n",
    "    './'\n",
    ")"
   ]
  },
  {
   "cell_type": "code",
   "execution_count": null,
   "metadata": {},
   "outputs": [],
   "source": [
    "# tf.train.load_variable(\n",
    "#     \"./\",'Conv2D_1/W/Adam_1'\n",
    "# )"
   ]
  },
  {
   "cell_type": "code",
   "execution_count": 21,
   "metadata": {},
   "outputs": [],
   "source": [
    "val_acc_new=[0.72642857,\n",
    " 0.813,\n",
    " 0.84685713,\n",
    " 0.85342854,\n",
    " 0.8582857,\n",
    " 0.8547143,\n",
    " 0.86457145,\n",
    " 0.85785717,\n",
    " 0.86228573,\n",
    " 0.86471426,\n",
    " 0.8442857]"
   ]
  },
  {
   "cell_type": "code",
   "execution_count": 23,
   "metadata": {},
   "outputs": [],
   "source": [
    "acc_new = [0.789,0.8605,0.8856,0.915,0.9229,0.9486,0.959,0.9794,0.9764,0.9817,0.9788]"
   ]
  },
  {
   "cell_type": "code",
   "execution_count": 24,
   "metadata": {},
   "outputs": [],
   "source": [
    "val_loss_new = [0.5978138,\n",
    " 0.41176006,\n",
    " 0.35686368,\n",
    " 0.35674706,\n",
    " 0.3801074,\n",
    " 0.39777866,\n",
    " 0.43902338,\n",
    " 0.6032892,\n",
    " 0.6555452,\n",
    " 0.66388255,\n",
    " 0.5937399]"
   ]
  },
  {
   "cell_type": "code",
   "execution_count": 25,
   "metadata": {},
   "outputs": [],
   "source": [
    "loss_new = [0.47,0.32,0.29,0.20,0.16,0.14,0.10,0.06,0.06,0.04,0.14]"
   ]
  },
  {
   "cell_type": "code",
   "execution_count": 26,
   "metadata": {},
   "outputs": [],
   "source": [
    "act_epochs=[1, 3, 6, 10, 15, 21, 28, 36, 45, 55, 66]"
   ]
  },
  {
   "cell_type": "code",
   "execution_count": 28,
   "metadata": {},
   "outputs": [
    {
     "data": {
      "image/png": "[encoded data removed]",
      "text/plain": [
       "<Figure size 432x288 with 1 Axes>"
      ]
     },
     "metadata": {
      "needs_background": "light"
     },
     "output_type": "display_data"
    }
   ],
   "source": [
    "plt.plot(act_epochs, val_acc_new, color='red', label='Validation Accuracy')\n",
    "plt.plot(act_epochs, acc_new, color='blue', label='Training Accuracy')\n",
    "plt.xlabel('No. of epochs')\n",
    "plt.ylabel('Accuarcy')\n",
    "plt.title('Variation in Accuracy with number of epochs')\n",
    "plt.legend()\n",
    "plt.show()"
   ]
  },
  {
   "cell_type": "code",
   "execution_count": 29,
   "metadata": {},
   "outputs": [
    {
     "data": {
      "image/png": "[encoded data removed]",
      "text/plain": [
       "<Figure size 432x288 with 1 Axes>"
      ]
     },
     "metadata": {
      "needs_background": "light"
     },
     "output_type": "display_data"
    }
   ],
   "source": [
    "plt.plot(act_epochs, val_loss_new, color='red',label='Validation Loss')\n",
    "plt.plot(act_epochs, loss_new, color='blue',label='Training Loss')\n",
    "plt.xlabel('No. of epochs')\n",
    "plt.ylabel('Loss')\n",
    "plt.title('Variation in Loss with number of epochs')\n",
    "plt.legend()\n",
    "plt.show()"
   ]
  },
  {
   "cell_type": "code",
   "execution_count": 30,
   "metadata": {},
   "outputs": [
    {
     "name": "stdout",
     "output_type": "stream",
     "text": [
      "Help on function conv_2d in module tflearn.layers.conv:\n",
      "\n",
      "conv_2d(incoming, nb_filter, filter_size, strides=1, padding='same', activation='linear', bias=True, weights_init='uniform_scaling', bias_init='zeros', regularizer=None, weight_decay=0.001, trainable=True, restore=True, reuse=False, scope=None, name='Conv2D')\n",
      "    Convolution 2D.\n",
      "    \n",
      "    Input:\n",
      "        4-D Tensor [batch, height, width, in_channels].\n",
      "    \n",
      "    Output:\n",
      "        4-D Tensor [batch, new height, new width, nb_filter].\n",
      "    \n",
      "    Arguments:\n",
      "        incoming: `Tensor`. Incoming 4-D Tensor.\n",
      "        nb_filter: `int`. The number of convolutional filters.\n",
      "        filter_size: `int` or `list of int`. Size of filters.\n",
      "        strides: 'int` or list of `int`. Strides of conv operation.\n",
      "            Default: [1 1 1 1].\n",
      "        padding: `str` from `\"same\", \"valid\"`. Padding algo to use.\n",
      "            Default: 'same'.\n",
      "        activation: `str` (name) or `function` (returning a `Tensor`) or None.\n",
      "            Activation applied to this layer (see tflearn.activations).\n",
      "            Default: 'linear'.\n",
      "        bias: `bool`. If True, a bias is used.\n",
      "        weights_init: `str` (name) or `Tensor`. Weights initialization.\n",
      "            (see tflearn.initializations) Default: 'truncated_normal'.\n",
      "        bias_init: `str` (name) or `Tensor`. Bias initialization.\n",
      "            (see tflearn.initializations) Default: 'zeros'.\n",
      "        regularizer: `str` (name) or `Tensor`. Add a regularizer to this\n",
      "            layer weights (see tflearn.regularizers). Default: None.\n",
      "        weight_decay: `float`. Regularizer decay parameter. Default: 0.001.\n",
      "        trainable: `bool`. If True, weights will be trainable.\n",
      "        restore: `bool`. If True, this layer weights will be restored when\n",
      "            loading a model.\n",
      "        reuse: `bool`. If True and 'scope' is provided, this layer variables\n",
      "            will be reused (shared).\n",
      "        scope: `str`. Define this layer scope (optional). A scope can be\n",
      "            used to share variables between layers. Note that scope will\n",
      "            override name.\n",
      "        name: A name for this layer (optional). Default: 'Conv2D'.\n",
      "    \n",
      "    Attributes:\n",
      "        scope: `Scope`. This layer scope.\n",
      "        W: `Variable`. Variable representing filter weights.\n",
      "        b: `Variable`. Variable representing biases.\n",
      "\n"
     ]
    }
   ],
   "source": [
    "help(conv_2d)"
   ]
  },
  {
   "cell_type": "code",
   "execution_count": 34,
   "metadata": {},
   "outputs": [
    {
     "data": {
      "text/plain": [
       "[('Accuracy/Mean/moving_avg', []),\n",
       " ('Adam/beta1_power', []),\n",
       " ('Adam/beta2_power', []),\n",
       " ('Conv2D/W', [5, 5, 1, 32]),\n",
       " ('Conv2D/W/Adam', [5, 5, 1, 32]),\n",
       " ('Conv2D/W/Adam_1', [5, 5, 1, 32]),\n",
       " ('Conv2D/b', [32]),\n",
       " ('Conv2D/b/Adam', [32]),\n",
       " ('Conv2D/b/Adam_1', [32]),\n",
       " ('Conv2D_1/W', [5, 5, 32, 64]),\n",
       " ('Conv2D_1/W/Adam', [5, 5, 32, 64]),\n",
       " ('Conv2D_1/W/Adam_1', [5, 5, 32, 64]),\n",
       " ('Conv2D_1/b', [64]),\n",
       " ('Conv2D_1/b/Adam', [64]),\n",
       " ('Conv2D_1/b/Adam_1', [64]),\n",
       " ('Conv2D_2/W', [5, 5, 64, 128]),\n",
       " ('Conv2D_2/W/Adam', [5, 5, 64, 128]),\n",
       " ('Conv2D_2/W/Adam_1', [5, 5, 64, 128]),\n",
       " ('Conv2D_2/b', [128]),\n",
       " ('Conv2D_2/b/Adam', [128]),\n",
       " ('Conv2D_2/b/Adam_1', [128]),\n",
       " ('Conv2D_3/W', [5, 5, 128, 256]),\n",
       " ('Conv2D_3/W/Adam', [5, 5, 128, 256]),\n",
       " ('Conv2D_3/W/Adam_1', [5, 5, 128, 256]),\n",
       " ('Conv2D_3/b', [256]),\n",
       " ('Conv2D_3/b/Adam', [256]),\n",
       " ('Conv2D_3/b/Adam_1', [256]),\n",
       " ('Conv2D_4/W', [5, 5, 256, 128]),\n",
       " ('Conv2D_4/W/Adam', [5, 5, 256, 128]),\n",
       " ('Conv2D_4/W/Adam_1', [5, 5, 256, 128]),\n",
       " ('Conv2D_4/b', [128]),\n",
       " ('Conv2D_4/b/Adam', [128]),\n",
       " ('Conv2D_4/b/Adam_1', [128]),\n",
       " ('Conv2D_5/W', [5, 5, 128, 64]),\n",
       " ('Conv2D_5/W/Adam', [5, 5, 128, 64]),\n",
       " ('Conv2D_5/W/Adam_1', [5, 5, 128, 64]),\n",
       " ('Conv2D_5/b', [64]),\n",
       " ('Conv2D_5/b/Adam', [64]),\n",
       " ('Conv2D_5/b/Adam_1', [64]),\n",
       " ('Conv2D_6/W', [5, 5, 64, 32]),\n",
       " ('Conv2D_6/W/Adam', [5, 5, 64, 32]),\n",
       " ('Conv2D_6/W/Adam_1', [5, 5, 64, 32]),\n",
       " ('Conv2D_6/b', [32]),\n",
       " ('Conv2D_6/b/Adam', [32]),\n",
       " ('Conv2D_6/b/Adam_1', [32]),\n",
       " ('Crossentropy/Mean/moving_avg', []),\n",
       " ('FullyConnected/W', [32, 1024]),\n",
       " ('FullyConnected/W/Adam', [32, 1024]),\n",
       " ('FullyConnected/W/Adam_1', [32, 1024]),\n",
       " ('FullyConnected/b', [1024]),\n",
       " ('FullyConnected/b/Adam', [1024]),\n",
       " ('FullyConnected/b/Adam_1', [1024]),\n",
       " ('FullyConnected_1/W', [1024, 2]),\n",
       " ('FullyConnected_1/W/Adam', [1024, 2]),\n",
       " ('FullyConnected_1/W/Adam_1', [1024, 2]),\n",
       " ('FullyConnected_1/b', [2]),\n",
       " ('FullyConnected_1/b/Adam', [2]),\n",
       " ('FullyConnected_1/b/Adam_1', [2]),\n",
       " ('Global_Step', []),\n",
       " ('Training_step', []),\n",
       " ('is_training', []),\n",
       " ('val_acc', []),\n",
       " ('val_loss', [])]"
      ]
     },
     "execution_count": 34,
     "metadata": {},
     "output_type": "execute_result"
    }
   ],
   "source": [
    " tf.train.list_variables(\"./\")"
   ]
  },
  {
   "cell_type": "code",
   "execution_count": null,
   "metadata": {},
   "outputs": [],
   "source": []
  }
 ],
 "metadata": {
  "kernelspec": {
   "display_name": "Python 3",
   "language": "python",
   "name": "python3"
  },
  "language_info": {
   "codemirror_mode": {
    "name": "ipython",
    "version": 3
   },
   "file_extension": ".py",
   "mimetype": "text/x-python",
   "name": "python",
   "nbconvert_exporter": "python",
   "pygments_lexer": "ipython3",
   "version": "3.7.7"
  }
 },
 "nbformat": 4,
 "nbformat_minor": 2
}
