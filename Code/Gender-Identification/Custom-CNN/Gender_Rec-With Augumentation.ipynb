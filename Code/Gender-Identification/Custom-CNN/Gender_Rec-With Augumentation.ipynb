{
  "nbformat": 4,
  "nbformat_minor": 0,
  "metadata": {
    "colab": {
      "name": "Gender Rec.ipynb",
      "provenance": []
    },
    "kernelspec": {
      "name": "python3",
      "display_name": "Python 3"
    },
    "accelerator": "GPU"
  },
  "cells": [
    {
      "cell_type": "markdown",
      "metadata": {
        "id": "6F1Px7H5xSKx",
        "colab_type": "text"
      },
      "source": [
        "![alt text](https://miro.medium.com/max/1255/1*vkQ0hXDaQv57sALXAJquxA.jpeg)"
      ]
    },
    {
      "cell_type": "markdown",
      "metadata": {
        "id": "yNG8lu_sf86Q",
        "colab_type": "text"
      },
      "source": [
        "#Load the data\n"
      ]
    },
    {
      "cell_type": "code",
      "metadata": {
        "id": "jkkArRN_MgOx",
        "colab_type": "code",
        "outputId": "2b95d807-19a9-41fc-b68c-2a83538e01c3",
        "colab": {
          "base_uri": "https://localhost:8080/",
          "height": 119
        }
      },
      "source": [
        "! git clone https://github.com/manmeet0307/EarData\n"
      ],
      "execution_count": 0,
      "outputs": [
        {
          "output_type": "stream",
          "text": [
            "Cloning into 'EarData'...\n",
            "remote: Enumerating objects: 28576, done.\u001b[K\n",
            "remote: Total 28576 (delta 0), reused 0 (delta 0), pack-reused 28576\u001b[K\n",
            "Receiving objects: 100% (28576/28576), 95.41 MiB | 36.48 MiB/s, done.\n",
            "Resolving deltas: 100% (6399/6399), done.\n",
            "Checking out files: 100% (28412/28412), done.\n"
          ],
          "name": "stdout"
        }
      ]
    },
    {
      "cell_type": "code",
      "metadata": {
        "id": "ZSoJuBw0Mm5P",
        "colab_type": "code",
        "outputId": "766c77eb-91e6-4dd8-8d5e-b8866788eb45",
        "colab": {
          "base_uri": "https://localhost:8080/",
          "height": 34
        }
      },
      "source": [
        "!ls\n"
      ],
      "execution_count": 0,
      "outputs": [
        {
          "output_type": "stream",
          "text": [
            "EarData  sample_data\n"
          ],
          "name": "stdout"
        }
      ]
    },
    {
      "cell_type": "code",
      "metadata": {
        "id": "_QZZz_k4MvX9",
        "colab_type": "code",
        "outputId": "3f164850-cd1f-4164-c4a8-0997836a163a",
        "colab": {
          "base_uri": "https://localhost:8080/",
          "height": 80
        }
      },
      "source": [
        "import os,shutil\n",
        "import numpy as np\n",
        "import matplotlib.pyplot as plt\n",
        "from keras.preprocessing import image"
      ],
      "execution_count": 0,
      "outputs": [
        {
          "output_type": "stream",
          "text": [
            "Using TensorFlow backend.\n"
          ],
          "name": "stderr"
        },
        {
          "output_type": "display_data",
          "data": {
            "text/html": [
              "<p style=\"color: red;\">\n",
              "The default version of TensorFlow in Colab will soon switch to TensorFlow 2.x.<br>\n",
              "We recommend you <a href=\"https://www.tensorflow.org/guide/migrate\" target=\"_blank\">upgrade</a> now \n",
              "or ensure your notebook will continue to use TensorFlow 1.x via the <code>%tensorflow_version 1.x</code> magic:\n",
              "<a href=\"https://colab.research.google.com/notebooks/tensorflow_version.ipynb\" target=\"_blank\">more info</a>.</p>\n"
            ],
            "text/plain": [
              "<IPython.core.display.HTML object>"
            ]
          },
          "metadata": {
            "tags": []
          }
        }
      ]
    },
    {
      "cell_type": "markdown",
      "metadata": {
        "id": "5Xb9k9FygEx1",
        "colab_type": "text"
      },
      "source": [
        "#Divide the Data into Test, Train and Validation Set\n",
        "\n",
        "\n",
        "\n",
        "1.   Create Folders:Test,Train,Validation\n",
        "2.   Split data\n",
        "3.   Rearrage data according to their gender\n",
        "4.   Move the data to their destination folder\n",
        "\n",
        "\n"
      ]
    },
    {
      "cell_type": "code",
      "metadata": {
        "id": "gRgSEjKUM3vU",
        "colab_type": "code",
        "colab": {}
      },
      "source": [
        "if not os.path.isdir(\"test\"):\n",
        "  os.mkdir(\"test\")\n",
        "\n",
        "if not os.path.isdir(\"val\"):\n",
        "  os.mkdir(\"val\")\n",
        "\n",
        "if not os.path.isdir(\"train\"):\n",
        "  os.mkdir(\"train\")"
      ],
      "execution_count": 0,
      "outputs": []
    },
    {
      "cell_type": "code",
      "metadata": {
        "id": "_QbGcq2VQowz",
        "colab_type": "code",
        "outputId": "b13380f6-fb51-480c-df1a-cbe0a3a05319",
        "colab": {
          "base_uri": "https://localhost:8080/",
          "height": 34
        }
      },
      "source": [
        "!ls"
      ],
      "execution_count": 0,
      "outputs": [
        {
          "output_type": "stream",
          "text": [
            "EarData  sample_data  test  train  val\n"
          ],
          "name": "stdout"
        }
      ]
    },
    {
      "cell_type": "code",
      "metadata": {
        "id": "MoXK9j_dQppz",
        "colab_type": "code",
        "colab": {}
      },
      "source": [
        "classes=[\"Male\",\"Female\"]"
      ],
      "execution_count": 0,
      "outputs": []
    },
    {
      "cell_type": "code",
      "metadata": {
        "id": "pr9qJuYKRAQR",
        "colab_type": "code",
        "colab": {}
      },
      "source": [
        "for c in classes:\n",
        "  p=os.path.join(\"test\",c)\n",
        "  if not os.path.isdir(p):\n",
        "    os.mkdir(p)\n",
        "\n",
        "\n",
        "for c in classes:\n",
        "  p=os.path.join(\"train\",c)\n",
        "  if not os.path.isdir(p):\n",
        "    os.mkdir(p)\n",
        "\n",
        "for c in classes:\n",
        "  p=os.path.join(\"val\",c)\n",
        "  if not os.path.isdir(p):\n",
        "    os.mkdir(p)\n"
      ],
      "execution_count": 0,
      "outputs": []
    },
    {
      "cell_type": "code",
      "metadata": {
        "id": "cenbSlWCRixK",
        "colab_type": "code",
        "outputId": "1315771b-80eb-446e-c287-7d455d7d1051",
        "colab": {
          "base_uri": "https://localhost:8080/",
          "height": 34
        }
      },
      "source": [
        "folders=os.listdir(\"EarData\")\n",
        "folders.index(\".git\")\n",
        "\n"
      ],
      "execution_count": 0,
      "outputs": [
        {
          "output_type": "execute_result",
          "data": {
            "text/plain": [
              "141"
            ]
          },
          "metadata": {
            "tags": []
          },
          "execution_count": 10
        }
      ]
    },
    {
      "cell_type": "code",
      "metadata": {
        "id": "X5jSFkzodnj-",
        "colab_type": "code",
        "outputId": "346ae018-e1a5-474c-e42c-e4d307442b0a",
        "colab": {
          "base_uri": "https://localhost:8080/",
          "height": 34
        }
      },
      "source": [
        "os.listdir(\"train\")"
      ],
      "execution_count": 0,
      "outputs": [
        {
          "output_type": "execute_result",
          "data": {
            "text/plain": [
              "['Female', 'Male']"
            ]
          },
          "metadata": {
            "tags": []
          },
          "execution_count": 11
        }
      ]
    },
    {
      "cell_type": "code",
      "metadata": {
        "id": "lx38zVZSRo8-",
        "colab_type": "code",
        "outputId": "4f2b18d5-d134-4a58-9134-bf3bb57d2d7c",
        "colab": {
          "base_uri": "https://localhost:8080/",
          "height": 34
        }
      },
      "source": [
        "folders.pop(141)\n",
        "print(len(folders))"
      ],
      "execution_count": 0,
      "outputs": [
        {
          "output_type": "stream",
          "text": [
            "164\n"
          ],
          "name": "stdout"
        }
      ]
    },
    {
      "cell_type": "code",
      "metadata": {
        "id": "DC0axAxkRs4o",
        "colab_type": "code",
        "colab": {}
      },
      "source": [
        "splitTrain=0.9\n",
        "splitVal=0.8\n",
        "# count=0\n",
        "for f in folders:\n",
        "  Subfolder=\"EarData\"+\"/\"+f\n",
        "  # count=count+1\n",
        "  #print(count)\n",
        "  #Total File in particular folder\n",
        "  imgs=os.listdir(Subfolder)\n",
        "\n",
        "  test_split_size=int(splitTrain*len(imgs))\n",
        "\n",
        "  #Test_Set and Train_Set\n",
        "  train_set=imgs[:test_split_size]\n",
        "  test_set=imgs[test_split_size:]\n",
        "\n",
        "  val_split_size=int(splitVal*len(train_set))\n",
        "\n",
        "  #Validation_Set\n",
        "  val_set=train_set[val_split_size:]\n",
        "  train_set=train_set[:val_split_size]\n",
        "\n",
        "  #Ear Type \n",
        "  label=str(f).split(\".\")[0]\n",
        "  Subfolder_num=int(label)\n",
        "  currLabel=\"Female\"                              \n",
        "  if(Subfolder_num>=1 and Subfolder_num<=98):\n",
        "    currLabel=\"Male\"\n",
        "\n",
        "  #Train\n",
        "  for img_train in train_set:\n",
        "    src=os.path.join(Subfolder,img_train)\n",
        "    dest=os.path.join(\"train/\"+currLabel,img_train)\n",
        "    shutil.move(src,dest)\n",
        "\n",
        "  #Test\n",
        "  for img_test in test_set:\n",
        "    src=os.path.join(Subfolder,img_test)\n",
        "    dest=os.path.join(\"test/\"+currLabel,img_test)\n",
        "    shutil.move(src,dest)\n",
        "\n",
        "  #Validation \n",
        "  for img_val in val_set:\n",
        "    src=os.path.join(Subfolder,img_val)\n",
        "    dest=os.path.join(\"val/\"+currLabel,img_val)\n",
        "    shutil.move(src,dest)"
      ],
      "execution_count": 0,
      "outputs": []
    },
    {
      "cell_type": "code",
      "metadata": {
        "id": "ekLcxhnMUJzY",
        "colab_type": "code",
        "outputId": "77ab4881-da2d-4aca-d144-e88a0bf45dde",
        "colab": {
          "base_uri": "https://localhost:8080/",
          "height": 170
        }
      },
      "source": [
        "print(\"Train:Female:\",len(os.listdir(\"train/Female\")))\n",
        "print(\"Train:Male:\",len(os.listdir(\"train/Male\")))\n",
        "print(\"****************************************************************************\")\n",
        "print(\"Test:Female:\",len(os.listdir(\"test/Female\")))\n",
        "print(\"Test:Male:\",len(os.listdir(\"test/Male\")))\n",
        "print(\"****************************************************************************\")\n",
        "print(\"Validation:Female:\",len(os.listdir(\"val/Female\")))\n",
        "print(\"Validation:Male:\",len(os.listdir(\"val/Male\")))\n",
        "print(\"****************************************************************************\")\n",
        "\n"
      ],
      "execution_count": 0,
      "outputs": [
        {
          "output_type": "stream",
          "text": [
            "Train:Female: 7767\n",
            "Train:Male: 12470\n",
            "****************************************************************************\n",
            "Test:Female: 1103\n",
            "Test:Male: 1779\n",
            "****************************************************************************\n",
            "Validation:Female: 1971\n",
            "Validation:Male: 3159\n",
            "****************************************************************************\n"
          ],
          "name": "stdout"
        }
      ]
    },
    {
      "cell_type": "markdown",
      "metadata": {
        "id": "HKLoHCi9g4_d",
        "colab_type": "text"
      },
      "source": [
        "#Model"
      ]
    },
    {
      "cell_type": "code",
      "metadata": {
        "id": "wQYVHGMkfVNz",
        "colab_type": "code",
        "outputId": "b4a555ac-5b02-4b57-eaa5-e9d81cf40ed0",
        "colab": {
          "base_uri": "https://localhost:8080/",
          "height": 493
        }
      },
      "source": [
        "from keras.models import Sequential\n",
        "from keras.layers import *\n",
        "\n",
        "#create model\n",
        "model = Sequential()\n",
        "\n",
        "#add model layers\n",
        "model.add(Conv2D(32, kernel_size=3, activation='relu', input_shape=(150,150,3)))\n",
        "model.add(MaxPool2D((2,2)))\n",
        "model.add(Conv2D(64, kernel_size=3, activation='relu'))\n",
        "model.add(MaxPool2D((2,2)))\n",
        "model.add(Conv2D(128, kernel_size=3, activation='relu'))\n",
        "model.add(MaxPool2D((2,2)))\n",
        "model.add(Conv2D(128, kernel_size=3, activation='relu'))\n",
        "model.add(MaxPool2D((2,2)))\n",
        "model.add(Flatten())\n",
        "model.add(Dense(2, activation='softmax'))\n",
        "model.summary()\n"
      ],
      "execution_count": 0,
      "outputs": [
        {
          "output_type": "stream",
          "text": [
            "Model: \"sequential_2\"\n",
            "_________________________________________________________________\n",
            "Layer (type)                 Output Shape              Param #   \n",
            "=================================================================\n",
            "conv2d_5 (Conv2D)            (None, 148, 148, 32)      896       \n",
            "_________________________________________________________________\n",
            "max_pooling2d_5 (MaxPooling2 (None, 74, 74, 32)        0         \n",
            "_________________________________________________________________\n",
            "conv2d_6 (Conv2D)            (None, 72, 72, 64)        18496     \n",
            "_________________________________________________________________\n",
            "max_pooling2d_6 (MaxPooling2 (None, 36, 36, 64)        0         \n",
            "_________________________________________________________________\n",
            "conv2d_7 (Conv2D)            (None, 34, 34, 128)       73856     \n",
            "_________________________________________________________________\n",
            "max_pooling2d_7 (MaxPooling2 (None, 17, 17, 128)       0         \n",
            "_________________________________________________________________\n",
            "conv2d_8 (Conv2D)            (None, 15, 15, 128)       147584    \n",
            "_________________________________________________________________\n",
            "max_pooling2d_8 (MaxPooling2 (None, 7, 7, 128)         0         \n",
            "_________________________________________________________________\n",
            "flatten_2 (Flatten)          (None, 6272)              0         \n",
            "_________________________________________________________________\n",
            "dense_2 (Dense)              (None, 2)                 12546     \n",
            "=================================================================\n",
            "Total params: 253,378\n",
            "Trainable params: 253,378\n",
            "Non-trainable params: 0\n",
            "_________________________________________________________________\n"
          ],
          "name": "stdout"
        }
      ]
    },
    {
      "cell_type": "code",
      "metadata": {
        "id": "hu2wYUuWlkzR",
        "colab_type": "code",
        "colab": {}
      },
      "source": [
        "from keras import optimizers\n",
        "\n",
        "adam=optimizers.adam(lr=1e-4)\n",
        "model.compile(loss='categorical_crossentropy',optimizer=adam,metrics=['acc'])"
      ],
      "execution_count": 0,
      "outputs": []
    },
    {
      "cell_type": "markdown",
      "metadata": {
        "id": "hfKe9Af4nYCj",
        "colab_type": "text"
      },
      "source": [
        "#Data Generator"
      ]
    },
    {
      "cell_type": "code",
      "metadata": {
        "id": "KkkANpGhmz5J",
        "colab_type": "code",
        "colab": {}
      },
      "source": [
        "from keras.preprocessing import image\n",
        "from keras.preprocessing.image import ImageDataGenerator"
      ],
      "execution_count": 0,
      "outputs": []
    },
    {
      "cell_type": "code",
      "metadata": {
        "id": "eqmB2nv_nw8b",
        "colab_type": "code",
        "colab": {}
      },
      "source": [
        "image_gen=ImageDataGenerator(\n",
        "    rescale=1/255.0,\n",
        "    rotation_range=20,\n",
        "    width_shift_range=0.2,\n",
        "    height_shift_range=0.2,\n",
        "    shear_range=0.2,\n",
        "    zoom_range=0.3,\n",
        ")\n",
        "\n",
        "val_gen=ImageDataGenerator(\n",
        "    rescale=1/255.0,\n",
        ")"
      ],
      "execution_count": 0,
      "outputs": []
    },
    {
      "cell_type": "code",
      "metadata": {
        "id": "boA2vf6hpOfp",
        "colab_type": "code",
        "outputId": "a5468158-e299-4cf2-c37d-9b500fe21922",
        "colab": {
          "base_uri": "https://localhost:8080/",
          "height": 34
        }
      },
      "source": [
        "train_generator=image_gen.flow_from_directory(\n",
        "    \"train/\",\n",
        "    target_size=(150,150),\n",
        "    class_mode='categorical',\n",
        "    batch_size=32,\n",
        "    shuffle=True\n",
        ")"
      ],
      "execution_count": 0,
      "outputs": [
        {
          "output_type": "stream",
          "text": [
            "Found 20237 images belonging to 2 classes.\n"
          ],
          "name": "stdout"
        }
      ]
    },
    {
      "cell_type": "code",
      "metadata": {
        "id": "AkuJCdnzp88P",
        "colab_type": "code",
        "outputId": "157755a5-198c-4e48-91a1-adfd479078f9",
        "colab": {
          "base_uri": "https://localhost:8080/",
          "height": 34
        }
      },
      "source": [
        "train_generator.class_indices"
      ],
      "execution_count": 0,
      "outputs": [
        {
          "output_type": "execute_result",
          "data": {
            "text/plain": [
              "{'Female': 0, 'Male': 1}"
            ]
          },
          "metadata": {
            "tags": []
          },
          "execution_count": 51
        }
      ]
    },
    {
      "cell_type": "code",
      "metadata": {
        "id": "n17RcL21p_sT",
        "colab_type": "code",
        "outputId": "c4eb2ca1-ffc2-4fcd-ab98-6d269b5f00d0",
        "colab": {
          "base_uri": "https://localhost:8080/",
          "height": 34
        }
      },
      "source": [
        "val_generator=image_gen.flow_from_directory(\n",
        "    \"val/\",\n",
        "    target_size=(150,150),\n",
        "    class_mode='categorical',\n",
        "    batch_size=32,\n",
        "    shuffle=True\n",
        ")"
      ],
      "execution_count": 0,
      "outputs": [
        {
          "output_type": "stream",
          "text": [
            "Found 5130 images belonging to 2 classes.\n"
          ],
          "name": "stdout"
        }
      ]
    },
    {
      "cell_type": "markdown",
      "metadata": {
        "id": "jXlDuIhcqtmo",
        "colab_type": "text"
      },
      "source": [
        "#Train our Model"
      ]
    },
    {
      "cell_type": "code",
      "metadata": {
        "id": "5t-v6YREr_VU",
        "colab_type": "code",
        "outputId": "85089ea2-f788-4afe-a89a-b0e103189888",
        "colab": {
          "base_uri": "https://localhost:8080/",
          "height": 1000
        }
      },
      "source": [
        "hist=model.fit_generator(\n",
        "    train_generator,\n",
        "    epochs=40,\n",
        "    steps_per_epoch=851,\n",
        "    validation_data=val_generator,\n",
        "    validation_steps=12\n",
        "    )"
      ],
      "execution_count": 0,
      "outputs": [
        {
          "output_type": "stream",
          "text": [
            "WARNING:tensorflow:From /tensorflow-1.15.0/python3.6/tensorflow_core/python/ops/math_grad.py:1424: where (from tensorflow.python.ops.array_ops) is deprecated and will be removed in a future version.\n",
            "Instructions for updating:\n",
            "Use tf.where in 2.0, which has the same broadcast rule as np.where\n",
            "WARNING:tensorflow:From /usr/local/lib/python3.6/dist-packages/keras/backend/tensorflow_backend.py:1033: The name tf.assign_add is deprecated. Please use tf.compat.v1.assign_add instead.\n",
            "\n",
            "WARNING:tensorflow:From /usr/local/lib/python3.6/dist-packages/keras/backend/tensorflow_backend.py:1020: The name tf.assign is deprecated. Please use tf.compat.v1.assign instead.\n",
            "\n",
            "WARNING:tensorflow:From /usr/local/lib/python3.6/dist-packages/keras/backend/tensorflow_backend.py:3005: The name tf.Session is deprecated. Please use tf.compat.v1.Session instead.\n",
            "\n",
            "Epoch 1/40\n",
            "WARNING:tensorflow:From /usr/local/lib/python3.6/dist-packages/keras/backend/tensorflow_backend.py:190: The name tf.get_default_session is deprecated. Please use tf.compat.v1.get_default_session instead.\n",
            "\n",
            "WARNING:tensorflow:From /usr/local/lib/python3.6/dist-packages/keras/backend/tensorflow_backend.py:197: The name tf.ConfigProto is deprecated. Please use tf.compat.v1.ConfigProto instead.\n",
            "\n",
            "WARNING:tensorflow:From /usr/local/lib/python3.6/dist-packages/keras/backend/tensorflow_backend.py:207: The name tf.global_variables is deprecated. Please use tf.compat.v1.global_variables instead.\n",
            "\n",
            "WARNING:tensorflow:From /usr/local/lib/python3.6/dist-packages/keras/backend/tensorflow_backend.py:216: The name tf.is_variable_initialized is deprecated. Please use tf.compat.v1.is_variable_initialized instead.\n",
            "\n",
            "WARNING:tensorflow:From /usr/local/lib/python3.6/dist-packages/keras/backend/tensorflow_backend.py:223: The name tf.variables_initializer is deprecated. Please use tf.compat.v1.variables_initializer instead.\n",
            "\n",
            "851/851 [==============================] - 167s 196ms/step - loss: 0.5998 - acc: 0.6821 - val_loss: 0.5479 - val_acc: 0.7266\n",
            "Epoch 2/40\n",
            "851/851 [==============================] - 155s 182ms/step - loss: 0.5563 - acc: 0.7226 - val_loss: 0.6286 - val_acc: 0.6901\n",
            "Epoch 3/40\n",
            "851/851 [==============================] - 155s 182ms/step - loss: 0.5370 - acc: 0.7383 - val_loss: 0.5484 - val_acc: 0.7370\n",
            "Epoch 4/40\n",
            "851/851 [==============================] - 153s 180ms/step - loss: 0.5244 - acc: 0.7474 - val_loss: 0.5148 - val_acc: 0.7422\n",
            "Epoch 5/40\n",
            "851/851 [==============================] - 150s 177ms/step - loss: 0.5064 - acc: 0.7588 - val_loss: 0.4842 - val_acc: 0.7708\n",
            "Epoch 6/40\n",
            "851/851 [==============================] - 151s 177ms/step - loss: 0.5025 - acc: 0.7596 - val_loss: 0.5321 - val_acc: 0.7292\n",
            "Epoch 7/40\n",
            "851/851 [==============================] - 151s 177ms/step - loss: 0.4874 - acc: 0.7718 - val_loss: 0.4978 - val_acc: 0.7526\n",
            "Epoch 8/40\n",
            "851/851 [==============================] - 148s 174ms/step - loss: 0.4788 - acc: 0.7764 - val_loss: 0.4972 - val_acc: 0.7734\n",
            "Epoch 9/40\n",
            "851/851 [==============================] - 146s 172ms/step - loss: 0.4703 - acc: 0.7825 - val_loss: 0.4392 - val_acc: 0.8125\n",
            "Epoch 10/40\n",
            "851/851 [==============================] - 146s 171ms/step - loss: 0.4637 - acc: 0.7881 - val_loss: 0.5108 - val_acc: 0.7552\n",
            "Epoch 11/40\n",
            "851/851 [==============================] - 145s 171ms/step - loss: 0.4553 - acc: 0.7918 - val_loss: 0.4955 - val_acc: 0.7630\n",
            "Epoch 12/40\n",
            "851/851 [==============================] - 145s 171ms/step - loss: 0.4489 - acc: 0.7949 - val_loss: 0.4756 - val_acc: 0.7891\n",
            "Epoch 13/40\n",
            "851/851 [==============================] - 146s 171ms/step - loss: 0.4394 - acc: 0.7976 - val_loss: 0.4317 - val_acc: 0.7760\n",
            "Epoch 14/40\n",
            "851/851 [==============================] - 146s 172ms/step - loss: 0.4248 - acc: 0.8095 - val_loss: 0.3685 - val_acc: 0.8370\n",
            "Epoch 15/40\n",
            "851/851 [==============================] - 144s 170ms/step - loss: 0.4221 - acc: 0.8110 - val_loss: 0.3832 - val_acc: 0.8411\n",
            "Epoch 16/40\n",
            "851/851 [==============================] - 145s 170ms/step - loss: 0.4127 - acc: 0.8146 - val_loss: 0.3867 - val_acc: 0.8307\n",
            "Epoch 17/40\n",
            "851/851 [==============================] - 145s 171ms/step - loss: 0.4048 - acc: 0.8179 - val_loss: 0.3575 - val_acc: 0.8359\n",
            "Epoch 18/40\n",
            "851/851 [==============================] - 145s 171ms/step - loss: 0.3951 - acc: 0.8266 - val_loss: 0.4926 - val_acc: 0.7786\n",
            "Epoch 19/40\n",
            "851/851 [==============================] - 147s 172ms/step - loss: 0.3958 - acc: 0.8243 - val_loss: 0.3861 - val_acc: 0.8229\n",
            "Epoch 20/40\n",
            "851/851 [==============================] - 146s 172ms/step - loss: 0.3846 - acc: 0.8309 - val_loss: 0.4107 - val_acc: 0.8047\n",
            "Epoch 21/40\n",
            "851/851 [==============================] - 146s 172ms/step - loss: 0.3801 - acc: 0.8332 - val_loss: 0.4059 - val_acc: 0.8099\n",
            "Epoch 22/40\n",
            "851/851 [==============================] - 147s 173ms/step - loss: 0.3755 - acc: 0.8352 - val_loss: 0.4156 - val_acc: 0.8333\n",
            "Epoch 23/40\n",
            "851/851 [==============================] - 147s 173ms/step - loss: 0.3723 - acc: 0.8371 - val_loss: 0.3867 - val_acc: 0.8307\n",
            "Epoch 24/40\n",
            "851/851 [==============================] - 145s 170ms/step - loss: 0.3638 - acc: 0.8416 - val_loss: 0.3438 - val_acc: 0.8646\n",
            "Epoch 25/40\n",
            "851/851 [==============================] - 146s 172ms/step - loss: 0.3642 - acc: 0.8419 - val_loss: 0.3904 - val_acc: 0.8203\n",
            "Epoch 26/40\n",
            "851/851 [==============================] - 146s 172ms/step - loss: 0.3538 - acc: 0.8469 - val_loss: 0.3838 - val_acc: 0.8281\n",
            "Epoch 27/40\n",
            "851/851 [==============================] - 146s 171ms/step - loss: 0.3505 - acc: 0.8464 - val_loss: 0.3693 - val_acc: 0.8122\n",
            "Epoch 28/40\n",
            "851/851 [==============================] - 145s 170ms/step - loss: 0.3491 - acc: 0.8514 - val_loss: 0.3419 - val_acc: 0.8438\n",
            "Epoch 29/40\n",
            "851/851 [==============================] - 145s 171ms/step - loss: 0.3414 - acc: 0.8526 - val_loss: 0.3290 - val_acc: 0.8620\n",
            "Epoch 30/40\n",
            "851/851 [==============================] - 145s 170ms/step - loss: 0.3410 - acc: 0.8543 - val_loss: 0.3662 - val_acc: 0.8307\n",
            "Epoch 31/40\n",
            "851/851 [==============================] - 145s 171ms/step - loss: 0.3346 - acc: 0.8569 - val_loss: 0.2997 - val_acc: 0.8724\n",
            "Epoch 32/40\n",
            "851/851 [==============================] - 145s 171ms/step - loss: 0.3320 - acc: 0.8568 - val_loss: 0.3528 - val_acc: 0.8464\n",
            "Epoch 33/40\n",
            "851/851 [==============================] - 145s 170ms/step - loss: 0.3283 - acc: 0.8614 - val_loss: 0.4281 - val_acc: 0.8203\n",
            "Epoch 34/40\n",
            "851/851 [==============================] - 145s 171ms/step - loss: 0.3258 - acc: 0.8625 - val_loss: 0.3547 - val_acc: 0.8307\n",
            "Epoch 35/40\n",
            "851/851 [==============================] - 145s 170ms/step - loss: 0.3210 - acc: 0.8640 - val_loss: 0.3409 - val_acc: 0.8411\n",
            "Epoch 36/40\n",
            "851/851 [==============================] - 145s 171ms/step - loss: 0.3191 - acc: 0.8638 - val_loss: 0.3518 - val_acc: 0.8438\n",
            "Epoch 37/40\n",
            "851/851 [==============================] - 146s 171ms/step - loss: 0.3157 - acc: 0.8625 - val_loss: 0.3223 - val_acc: 0.8672\n",
            "Epoch 38/40\n",
            "851/851 [==============================] - 146s 171ms/step - loss: 0.3184 - acc: 0.8634 - val_loss: 0.2780 - val_acc: 0.8932\n",
            "Epoch 39/40\n",
            "851/851 [==============================] - 145s 171ms/step - loss: 0.3109 - acc: 0.8697 - val_loss: 0.2987 - val_acc: 0.8854\n",
            "Epoch 40/40\n",
            "851/851 [==============================] - 146s 172ms/step - loss: 0.3108 - acc: 0.8696 - val_loss: 0.3417 - val_acc: 0.8411\n"
          ],
          "name": "stdout"
        }
      ]
    },
    {
      "cell_type": "code",
      "metadata": {
        "id": "6Xs65csN3P2E",
        "colab_type": "code",
        "outputId": "5977d71b-0752-4d54-c2bd-db0c45060cf7",
        "colab": {
          "base_uri": "https://localhost:8080/",
          "height": 697
        }
      },
      "source": [
        "hist2=model.fit_generator(\n",
        "    train_generator,\n",
        "    epochs=20,\n",
        "    steps_per_epoch=851,\n",
        "    validation_data=val_generator,\n",
        "    validation_steps=12\n",
        "    )"
      ],
      "execution_count": 0,
      "outputs": [
        {
          "output_type": "stream",
          "text": [
            "Epoch 1/20\n",
            "851/851 [==============================] - 149s 175ms/step - loss: 0.3081 - acc: 0.8692 - val_loss: 0.2817 - val_acc: 0.8802\n",
            "Epoch 2/20\n",
            "851/851 [==============================] - 148s 174ms/step - loss: 0.3034 - acc: 0.8700 - val_loss: 0.3225 - val_acc: 0.8724\n",
            "Epoch 3/20\n",
            "851/851 [==============================] - 152s 178ms/step - loss: 0.3044 - acc: 0.8721 - val_loss: 0.3280 - val_acc: 0.8698\n",
            "Epoch 4/20\n",
            "851/851 [==============================] - 148s 174ms/step - loss: 0.3030 - acc: 0.8718 - val_loss: 0.2977 - val_acc: 0.8932\n",
            "Epoch 5/20\n",
            "851/851 [==============================] - 149s 175ms/step - loss: 0.2978 - acc: 0.8739 - val_loss: 0.3779 - val_acc: 0.8568\n",
            "Epoch 6/20\n",
            "851/851 [==============================] - 147s 172ms/step - loss: 0.2933 - acc: 0.8772 - val_loss: 0.3658 - val_acc: 0.8411\n",
            "Epoch 7/20\n",
            "851/851 [==============================] - 147s 173ms/step - loss: 0.2894 - acc: 0.8786 - val_loss: 0.3303 - val_acc: 0.8411\n",
            "Epoch 8/20\n",
            "851/851 [==============================] - 146s 172ms/step - loss: 0.2894 - acc: 0.8810 - val_loss: 0.3340 - val_acc: 0.8620\n",
            "Epoch 9/20\n",
            "851/851 [==============================] - 147s 173ms/step - loss: 0.2874 - acc: 0.8783 - val_loss: 0.3224 - val_acc: 0.8464\n",
            "Epoch 10/20\n",
            "851/851 [==============================] - 146s 171ms/step - loss: 0.2872 - acc: 0.8802 - val_loss: 0.3137 - val_acc: 0.8828\n",
            "Epoch 11/20\n",
            "851/851 [==============================] - 147s 172ms/step - loss: 0.2799 - acc: 0.8825 - val_loss: 0.2490 - val_acc: 0.8958\n",
            "Epoch 12/20\n",
            "851/851 [==============================] - 147s 172ms/step - loss: 0.2835 - acc: 0.8816 - val_loss: 0.3036 - val_acc: 0.8828\n",
            "Epoch 13/20\n",
            "851/851 [==============================] - 147s 173ms/step - loss: 0.2833 - acc: 0.8822 - val_loss: 0.3419 - val_acc: 0.8516\n",
            "Epoch 14/20\n",
            "851/851 [==============================] - 147s 173ms/step - loss: 0.2768 - acc: 0.8867 - val_loss: 0.3002 - val_acc: 0.8619\n",
            "Epoch 15/20\n",
            "851/851 [==============================] - 145s 171ms/step - loss: 0.2800 - acc: 0.8831 - val_loss: 0.3217 - val_acc: 0.8568\n",
            "Epoch 16/20\n",
            "851/851 [==============================] - 146s 171ms/step - loss: 0.2774 - acc: 0.8844 - val_loss: 0.3224 - val_acc: 0.8411\n",
            "Epoch 17/20\n",
            "851/851 [==============================] - 145s 171ms/step - loss: 0.2722 - acc: 0.8886 - val_loss: 0.3186 - val_acc: 0.8594\n",
            "Epoch 18/20\n",
            "851/851 [==============================] - 146s 172ms/step - loss: 0.2714 - acc: 0.8895 - val_loss: 0.3011 - val_acc: 0.8620\n",
            "Epoch 19/20\n",
            "851/851 [==============================] - 146s 171ms/step - loss: 0.2668 - acc: 0.8906 - val_loss: 0.2796 - val_acc: 0.8724\n",
            "Epoch 20/20\n",
            "851/851 [==============================] - 146s 171ms/step - loss: 0.2681 - acc: 0.8886 - val_loss: 0.2989 - val_acc: 0.8828\n"
          ],
          "name": "stdout"
        }
      ]
    },
    {
      "cell_type": "code",
      "metadata": {
        "id": "e8kJl5iDCL8P",
        "colab_type": "code",
        "outputId": "7f29096a-c90f-4814-f3f5-a27abb85861a",
        "colab": {
          "base_uri": "https://localhost:8080/",
          "height": 357
        }
      },
      "source": [
        "hist3=model.fit_generator(\n",
        "    train_generator,\n",
        "    epochs=10,\n",
        "    steps_per_epoch=851,\n",
        "    validation_data=val_generator,\n",
        "    validation_steps=12\n",
        "    )"
      ],
      "execution_count": 0,
      "outputs": [
        {
          "output_type": "stream",
          "text": [
            "Epoch 1/10\n",
            "851/851 [==============================] - 147s 172ms/step - loss: 0.2668 - acc: 0.8897 - val_loss: 0.2461 - val_acc: 0.9089\n",
            "Epoch 2/10\n",
            "851/851 [==============================] - 146s 171ms/step - loss: 0.2608 - acc: 0.8931 - val_loss: 0.3146 - val_acc: 0.8594\n",
            "Epoch 3/10\n",
            "851/851 [==============================] - 145s 170ms/step - loss: 0.2605 - acc: 0.8888 - val_loss: 0.3088 - val_acc: 0.8724\n",
            "Epoch 4/10\n",
            "851/851 [==============================] - 146s 171ms/step - loss: 0.2573 - acc: 0.8936 - val_loss: 0.3827 - val_acc: 0.8255\n",
            "Epoch 5/10\n",
            "851/851 [==============================] - 146s 171ms/step - loss: 0.2586 - acc: 0.8960 - val_loss: 0.2892 - val_acc: 0.8828\n",
            "Epoch 6/10\n",
            "851/851 [==============================] - 146s 172ms/step - loss: 0.2596 - acc: 0.8921 - val_loss: 0.2820 - val_acc: 0.8906\n",
            "Epoch 7/10\n",
            "851/851 [==============================] - 146s 171ms/step - loss: 0.2562 - acc: 0.8937 - val_loss: 0.2944 - val_acc: 0.8750\n",
            "Epoch 8/10\n",
            "851/851 [==============================] - 145s 171ms/step - loss: 0.2522 - acc: 0.8965 - val_loss: 0.2456 - val_acc: 0.8906\n",
            "Epoch 9/10\n",
            "851/851 [==============================] - 145s 171ms/step - loss: 0.2513 - acc: 0.8965 - val_loss: 0.3018 - val_acc: 0.8724\n",
            "Epoch 10/10\n",
            "851/851 [==============================] - 146s 172ms/step - loss: 0.2530 - acc: 0.8967 - val_loss: 0.3015 - val_acc: 0.8672\n"
          ],
          "name": "stdout"
        }
      ]
    },
    {
      "cell_type": "code",
      "metadata": {
        "id": "sEQEIQj4vi1r",
        "colab_type": "code",
        "colab": {}
      },
      "source": [
        ""
      ],
      "execution_count": 0,
      "outputs": []
    },
    {
      "cell_type": "markdown",
      "metadata": {
        "id": "Kcli7mwlMn4W",
        "colab_type": "text"
      },
      "source": [
        "#Model Visualization"
      ]
    },
    {
      "cell_type": "markdown",
      "metadata": {
        "id": "TB2EmWJaMxXP",
        "colab_type": "text"
      },
      "source": [
        "**Mean Absolute Error**"
      ]
    },
    {
      "cell_type": "code",
      "metadata": {
        "id": "lkC-MWllBtVN",
        "colab_type": "code",
        "colab": {}
      },
      "source": [
        "LOSS=hist.history['loss']+hist2.history['loss']+hist3.history['loss']\n",
        "VAL_LOSS=hist.history['val_loss']+hist2.history['val_loss']+hist3.history['val_loss']\n"
      ],
      "execution_count": 0,
      "outputs": []
    },
    {
      "cell_type": "code",
      "metadata": {
        "id": "Ko1iA3XJI4XO",
        "colab_type": "code",
        "outputId": "1c22ddbb-3031-455e-a464-b3803fa01259",
        "colab": {
          "base_uri": "https://localhost:8080/",
          "height": 295
        }
      },
      "source": [
        "# Plot history: Mean Absolute Error\n",
        "plt.plot(LOSS, label='MAE (testing data)')\n",
        "plt.plot(VAL_LOSS, label='MAE (validation data)')\n",
        "plt.title('Mean Absolute Error')\n",
        "plt.ylabel('MAE value')\n",
        "plt.xlabel('No. epoch')\n",
        "plt.legend(loc=\"upper right\")\n",
        "plt.show()\n"
      ],
      "execution_count": 0,
      "outputs": [
        {
          "output_type": "display_data",
          "data": {
            "image/png": "[encoded data removed]",
            "text/plain": [
              "<Figure size 432x288 with 1 Axes>"
            ]
          },
          "metadata": {
            "tags": []
          }
        }
      ]
    },
    {
      "cell_type": "markdown",
      "metadata": {
        "id": "21E9Q0ZhM1uv",
        "colab_type": "text"
      },
      "source": [
        "**Accuracy**"
      ]
    },
    {
      "cell_type": "code",
      "metadata": {
        "id": "aX4O5PwIJUpd",
        "colab_type": "code",
        "colab": {}
      },
      "source": [
        "ACC=hist.history['acc']+hist2.history['acc']+hist3.history['acc']\n",
        "VAL_ACC=hist.history['val_acc']+hist2.history['val_acc']+hist3.history['val_acc']\n"
      ],
      "execution_count": 0,
      "outputs": []
    },
    {
      "cell_type": "code",
      "metadata": {
        "id": "w3iEZPwnKgdx",
        "colab_type": "code",
        "outputId": "bf8cd183-7ad2-453f-de6f-150eef6b5ba8",
        "colab": {
          "base_uri": "https://localhost:8080/",
          "height": 295
        }
      },
      "source": [
        "# Plot history: Accuracy\n",
        "plt.plot(ACC, label='Accuracy (testing data)')\n",
        "plt.plot(VAL_ACC, label='Accuracy (validation data)')\n",
        "plt.title('Accuracy')\n",
        "plt.ylabel('Accuary value')\n",
        "plt.xlabel('No. epoch')\n",
        "plt.legend(loc=\"upper left\")\n",
        "plt.show()\n"
      ],
      "execution_count": 0,
      "outputs": [
        {
          "output_type": "display_data",
          "data": {
            "image/png": "[encoded data removed]",
            "text/plain": [
              "<Figure size 432x288 with 1 Axes>"
            ]
          },
          "metadata": {
            "tags": []
          }
        }
      ]
    },
    {
      "cell_type": "markdown",
      "metadata": {
        "id": "ET4D2KikM4iD",
        "colab_type": "text"
      },
      "source": [
        "**Complete Training History**"
      ]
    },
    {
      "cell_type": "code",
      "metadata": {
        "id": "u2-S6oDJKmSu",
        "colab_type": "code",
        "outputId": "4f37c217-c2b4-4f31-b969-d609515fddf5",
        "colab": {
          "base_uri": "https://localhost:8080/",
          "height": 295
        }
      },
      "source": [
        "# Plot history\n",
        "plt.plot(ACC, label='Accuracy (testing data)')\n",
        "plt.plot(VAL_ACC, label='Accuracy (validation data)')\n",
        "plt.plot(LOSS, label='MAE (testing data)')\n",
        "plt.plot(VAL_LOSS, label='MAE (validation data)')\n",
        "plt.title('History')\n",
        "plt.ylabel('value')\n",
        "plt.xlabel('No. epoch')\n",
        "plt.legend()\n",
        "plt.show()\n"
      ],
      "execution_count": 0,
      "outputs": [
        {
          "output_type": "display_data",
          "data": {
            "image/png": "[encoded data removed]",
            "text/plain": [
              "<Figure size 432x288 with 1 Axes>"
            ]
          },
          "metadata": {
            "tags": []
          }
        }
      ]
    },
    {
      "cell_type": "markdown",
      "metadata": {
        "id": "YIoO5u5bLy9P",
        "colab_type": "text"
      },
      "source": [
        "#### For 61 epoch the validation accuracy is max.For the same epoch the training error and validation error is minimum.\n",
        "\n",
        "####Hence after 61 epoch the model is overfitting."
      ]
    },
    {
      "cell_type": "markdown",
      "metadata": {
        "id": "gh88AzzzNDbZ",
        "colab_type": "text"
      },
      "source": [
        "#Training New Model for 61 epochs"
      ]
    },
    {
      "cell_type": "code",
      "metadata": {
        "id": "XhFoSk3_KzUo",
        "colab_type": "code",
        "outputId": "786c6694-6572-499a-837d-4a938ac4967f",
        "colab": {
          "base_uri": "https://localhost:8080/",
          "height": 1000
        }
      },
      "source": [
        "final=model.fit_generator(\n",
        "    train_generator,\n",
        "    epochs=61,\n",
        "    steps_per_epoch=851,\n",
        "    validation_data=val_generator,\n",
        "    validation_steps=12\n",
        "    )"
      ],
      "execution_count": 0,
      "outputs": [
        {
          "output_type": "stream",
          "text": [
            "Epoch 1/61\n",
            "851/851 [==============================] - 150s 176ms/step - loss: 0.5934 - acc: 0.6836 - val_loss: 0.5739 - val_acc: 0.7135\n",
            "Epoch 2/61\n",
            "851/851 [==============================] - 148s 174ms/step - loss: 0.5561 - acc: 0.7237 - val_loss: 0.5939 - val_acc: 0.6875\n",
            "Epoch 3/61\n",
            "851/851 [==============================] - 149s 175ms/step - loss: 0.5353 - acc: 0.7383 - val_loss: 0.5898 - val_acc: 0.7135\n",
            "Epoch 4/61\n",
            "851/851 [==============================] - 148s 174ms/step - loss: 0.5246 - acc: 0.7465 - val_loss: 0.5127 - val_acc: 0.7656\n",
            "Epoch 5/61\n",
            "851/851 [==============================] - 147s 172ms/step - loss: 0.5157 - acc: 0.7526 - val_loss: 0.4666 - val_acc: 0.7839\n",
            "Epoch 6/61\n",
            "851/851 [==============================] - 147s 173ms/step - loss: 0.5014 - acc: 0.7616 - val_loss: 0.5146 - val_acc: 0.7422\n",
            "Epoch 7/61\n",
            "851/851 [==============================] - 147s 173ms/step - loss: 0.4934 - acc: 0.7684 - val_loss: 0.4913 - val_acc: 0.7891\n",
            "Epoch 8/61\n",
            "851/851 [==============================] - 147s 173ms/step - loss: 0.4852 - acc: 0.7744 - val_loss: 0.4876 - val_acc: 0.7682\n",
            "Epoch 9/61\n",
            "851/851 [==============================] - 147s 173ms/step - loss: 0.4784 - acc: 0.7742 - val_loss: 0.5381 - val_acc: 0.7318\n",
            "Epoch 10/61\n",
            "851/851 [==============================] - 149s 175ms/step - loss: 0.4692 - acc: 0.7828 - val_loss: 0.4688 - val_acc: 0.7604\n",
            "Epoch 11/61\n",
            "851/851 [==============================] - 150s 176ms/step - loss: 0.4645 - acc: 0.7856 - val_loss: 0.5055 - val_acc: 0.7604\n",
            "Epoch 12/61\n",
            "851/851 [==============================] - 148s 174ms/step - loss: 0.4540 - acc: 0.7917 - val_loss: 0.4551 - val_acc: 0.8073\n",
            "Epoch 13/61\n",
            "851/851 [==============================] - 148s 174ms/step - loss: 0.4447 - acc: 0.7984 - val_loss: 0.4381 - val_acc: 0.8047\n",
            "Epoch 14/61\n",
            "851/851 [==============================] - 148s 174ms/step - loss: 0.4363 - acc: 0.8021 - val_loss: 0.4601 - val_acc: 0.8094\n",
            "Epoch 15/61\n",
            "851/851 [==============================] - 146s 172ms/step - loss: 0.4330 - acc: 0.8036 - val_loss: 0.4525 - val_acc: 0.7839\n",
            "Epoch 16/61\n",
            "851/851 [==============================] - 146s 172ms/step - loss: 0.4221 - acc: 0.8093 - val_loss: 0.4284 - val_acc: 0.8203\n",
            "Epoch 17/61\n",
            "851/851 [==============================] - 146s 172ms/step - loss: 0.4145 - acc: 0.8148 - val_loss: 0.4694 - val_acc: 0.8099\n",
            "Epoch 18/61\n",
            "851/851 [==============================] - 147s 173ms/step - loss: 0.4111 - acc: 0.8179 - val_loss: 0.4812 - val_acc: 0.7786\n",
            "Epoch 19/61\n",
            "851/851 [==============================] - 147s 173ms/step - loss: 0.3965 - acc: 0.8253 - val_loss: 0.4000 - val_acc: 0.8307\n",
            "Epoch 20/61\n",
            "851/851 [==============================] - 147s 172ms/step - loss: 0.3937 - acc: 0.8244 - val_loss: 0.3673 - val_acc: 0.8359\n",
            "Epoch 21/61\n",
            "851/851 [==============================] - 146s 172ms/step - loss: 0.3850 - acc: 0.8298 - val_loss: 0.3746 - val_acc: 0.8385\n",
            "Epoch 22/61\n",
            "851/851 [==============================] - 147s 173ms/step - loss: 0.3874 - acc: 0.8295 - val_loss: 0.3712 - val_acc: 0.8333\n",
            "Epoch 23/61\n",
            "851/851 [==============================] - 146s 171ms/step - loss: 0.3810 - acc: 0.8331 - val_loss: 0.3091 - val_acc: 0.8776\n",
            "Epoch 24/61\n",
            "851/851 [==============================] - 146s 171ms/step - loss: 0.3719 - acc: 0.8380 - val_loss: 0.4107 - val_acc: 0.8125\n",
            "Epoch 25/61\n",
            "851/851 [==============================] - 146s 171ms/step - loss: 0.3684 - acc: 0.8415 - val_loss: 0.4309 - val_acc: 0.8099\n",
            "Epoch 26/61\n",
            "851/851 [==============================] - 146s 171ms/step - loss: 0.3680 - acc: 0.8412 - val_loss: 0.4467 - val_acc: 0.7682\n",
            "Epoch 27/61\n",
            "851/851 [==============================] - 146s 171ms/step - loss: 0.3611 - acc: 0.8416 - val_loss: 0.3469 - val_acc: 0.8536\n",
            "Epoch 28/61\n",
            "851/851 [==============================] - 146s 171ms/step - loss: 0.3574 - acc: 0.8464 - val_loss: 0.3650 - val_acc: 0.8464\n",
            "Epoch 29/61\n",
            "851/851 [==============================] - 146s 171ms/step - loss: 0.3555 - acc: 0.8441 - val_loss: 0.2841 - val_acc: 0.8750\n",
            "Epoch 30/61\n",
            "851/851 [==============================] - 146s 172ms/step - loss: 0.3478 - acc: 0.8512 - val_loss: 0.4074 - val_acc: 0.8073\n",
            "Epoch 31/61\n",
            "851/851 [==============================] - 146s 171ms/step - loss: 0.3438 - acc: 0.8530 - val_loss: 0.3634 - val_acc: 0.8464\n",
            "Epoch 32/61\n",
            "851/851 [==============================] - 145s 171ms/step - loss: 0.3419 - acc: 0.8534 - val_loss: 0.3462 - val_acc: 0.8411\n",
            "Epoch 33/61\n",
            "851/851 [==============================] - 145s 170ms/step - loss: 0.3387 - acc: 0.8540 - val_loss: 0.3320 - val_acc: 0.8594\n",
            "Epoch 34/61\n",
            "851/851 [==============================] - 145s 171ms/step - loss: 0.3359 - acc: 0.8541 - val_loss: 0.3302 - val_acc: 0.8646\n",
            "Epoch 35/61\n",
            "851/851 [==============================] - 145s 170ms/step - loss: 0.3319 - acc: 0.8563 - val_loss: 0.3072 - val_acc: 0.8568\n",
            "Epoch 36/61\n",
            "851/851 [==============================] - 145s 171ms/step - loss: 0.3247 - acc: 0.8630 - val_loss: 0.3626 - val_acc: 0.8411\n",
            "Epoch 37/61\n",
            "851/851 [==============================] - 145s 171ms/step - loss: 0.3257 - acc: 0.8603 - val_loss: 0.4122 - val_acc: 0.8359\n",
            "Epoch 38/61\n",
            "851/851 [==============================] - 145s 170ms/step - loss: 0.3235 - acc: 0.8608 - val_loss: 0.3291 - val_acc: 0.8516\n",
            "Epoch 39/61\n",
            "851/851 [==============================] - 145s 171ms/step - loss: 0.3229 - acc: 0.8620 - val_loss: 0.3354 - val_acc: 0.8542\n",
            "Epoch 40/61\n",
            "851/851 [==============================] - 145s 170ms/step - loss: 0.3146 - acc: 0.8653 - val_loss: 0.3606 - val_acc: 0.8594\n",
            "Epoch 41/61\n",
            "851/851 [==============================] - 147s 172ms/step - loss: 0.3134 - acc: 0.8666 - val_loss: 0.3300 - val_acc: 0.8702\n",
            "Epoch 42/61\n",
            "851/851 [==============================] - 144s 169ms/step - loss: 0.3084 - acc: 0.8691 - val_loss: 0.3639 - val_acc: 0.8464\n",
            "Epoch 43/61\n",
            "851/851 [==============================] - 146s 171ms/step - loss: 0.3081 - acc: 0.8696 - val_loss: 0.3571 - val_acc: 0.8411\n",
            "Epoch 44/61\n",
            "851/851 [==============================] - 145s 171ms/step - loss: 0.3045 - acc: 0.8709 - val_loss: 0.3020 - val_acc: 0.8698\n",
            "Epoch 45/61\n",
            "851/851 [==============================] - 145s 171ms/step - loss: 0.3057 - acc: 0.8706 - val_loss: 0.3012 - val_acc: 0.8854\n",
            "Epoch 46/61\n",
            "851/851 [==============================] - 145s 171ms/step - loss: 0.3052 - acc: 0.8727 - val_loss: 0.2927 - val_acc: 0.8828\n",
            "Epoch 47/61\n",
            "851/851 [==============================] - 145s 171ms/step - loss: 0.3010 - acc: 0.8709 - val_loss: 0.3824 - val_acc: 0.8438\n",
            "Epoch 48/61\n",
            "851/851 [==============================] - 144s 170ms/step - loss: 0.2981 - acc: 0.8732 - val_loss: 0.3268 - val_acc: 0.8594\n",
            "Epoch 49/61\n",
            "851/851 [==============================] - 145s 171ms/step - loss: 0.2974 - acc: 0.8722 - val_loss: 0.2827 - val_acc: 0.8854\n",
            "Epoch 50/61\n",
            "851/851 [==============================] - 145s 170ms/step - loss: 0.2908 - acc: 0.8794 - val_loss: 0.3620 - val_acc: 0.8568\n",
            "Epoch 51/61\n",
            "851/851 [==============================] - 145s 171ms/step - loss: 0.2916 - acc: 0.8772 - val_loss: 0.3852 - val_acc: 0.8385\n",
            "Epoch 52/61\n",
            "851/851 [==============================] - 146s 171ms/step - loss: 0.2905 - acc: 0.8784 - val_loss: 0.3806 - val_acc: 0.8542\n",
            "Epoch 53/61\n",
            "851/851 [==============================] - 145s 171ms/step - loss: 0.2902 - acc: 0.8767 - val_loss: 0.2910 - val_acc: 0.8958\n",
            "Epoch 54/61\n",
            "851/851 [==============================] - 146s 171ms/step - loss: 0.2862 - acc: 0.8797 - val_loss: 0.3453 - val_acc: 0.8481\n",
            "Epoch 55/61\n",
            "851/851 [==============================] - 145s 170ms/step - loss: 0.2835 - acc: 0.8832 - val_loss: 0.3019 - val_acc: 0.8828\n",
            "Epoch 56/61\n",
            "851/851 [==============================] - 146s 171ms/step - loss: 0.2806 - acc: 0.8846 - val_loss: 0.3296 - val_acc: 0.8490\n",
            "Epoch 57/61\n",
            "851/851 [==============================] - 145s 171ms/step - loss: 0.2780 - acc: 0.8835 - val_loss: 0.2995 - val_acc: 0.8646\n",
            "Epoch 58/61\n",
            "851/851 [==============================] - 145s 171ms/step - loss: 0.2761 - acc: 0.8849 - val_loss: 0.3486 - val_acc: 0.8490\n",
            "Epoch 59/61\n",
            "851/851 [==============================] - 145s 170ms/step - loss: 0.2798 - acc: 0.8844 - val_loss: 0.2716 - val_acc: 0.9036\n",
            "Epoch 60/61\n",
            "851/851 [==============================] - 146s 172ms/step - loss: 0.2804 - acc: 0.8833 - val_loss: 0.3204 - val_acc: 0.8854\n",
            "Epoch 61/61\n",
            "851/851 [==============================] - 145s 170ms/step - loss: 0.2725 - acc: 0.8841 - val_loss: 0.2756 - val_acc: 0.8854\n"
          ],
          "name": "stdout"
        }
      ]
    },
    {
      "cell_type": "code",
      "metadata": {
        "id": "xG-diRMZvk6J",
        "colab_type": "code",
        "outputId": "9f483179-6353-4302-8741-7261e27108f5",
        "colab": {
          "base_uri": "https://localhost:8080/",
          "height": 34
        }
      },
      "source": [
        "test_generator=image_gen.flow_from_directory(\n",
        "    \"test/\",\n",
        "    target_size=(150,150),\n",
        "    class_mode='categorical',\n",
        "    batch_size=32,\n",
        "    shuffle=True\n",
        ")"
      ],
      "execution_count": 0,
      "outputs": [
        {
          "output_type": "stream",
          "text": [
            "Found 2882 images belonging to 2 classes.\n"
          ],
          "name": "stdout"
        }
      ]
    },
    {
      "cell_type": "code",
      "metadata": {
        "id": "m3wvgGzPxKCs",
        "colab_type": "code",
        "outputId": "cd12b520-0470-47f7-d890-d4d1a12b7f40",
        "colab": {
          "base_uri": "https://localhost:8080/",
          "height": 295
        }
      },
      "source": [
        "# Plot history\n",
        "plt.plot(final.history['acc'], label='Accuracy (testing data)')\n",
        "plt.plot(final.history['val_acc'], label='Accuracy (validation data)')\n",
        "plt.plot(final.history['loss'], label='MAE (testing data)')\n",
        "plt.plot(final.history['val_loss'], label='MAE (validation data)')\n",
        "plt.title('History')\n",
        "plt.ylabel('value')\n",
        "plt.xlabel('No. epoch')\n",
        "plt.legend()\n",
        "plt.show()\n"
      ],
      "execution_count": 0,
      "outputs": [
        {
          "output_type": "display_data",
          "data": {
            "image/png": "[encoded data removed]",
            "text/plain": [
              "<Figure size 432x288 with 1 Axes>"
            ]
          },
          "metadata": {
            "tags": []
          }
        }
      ]
    },
    {
      "cell_type": "code",
      "metadata": {
        "id": "SY8-mdKovueP",
        "colab_type": "code",
        "colab": {}
      },
      "source": [
        "test_hist=model.evaluate_generator(\n",
        "    test_generator,\n",
        "    steps=91\n",
        ")"
      ],
      "execution_count": 0,
      "outputs": []
    },
    {
      "cell_type": "code",
      "metadata": {
        "id": "25fNeEFNwQqP",
        "colab_type": "code",
        "outputId": "700b0fe1-c86f-4e02-e4d8-3724d4cd3274",
        "colab": {
          "base_uri": "https://localhost:8080/",
          "height": 34
        }
      },
      "source": [
        "test_hist"
      ],
      "execution_count": 0,
      "outputs": [
        {
          "output_type": "execute_result",
          "data": {
            "text/plain": [
              "[0.29765086766334975, 0.8733518390006939]"
            ]
          },
          "metadata": {
            "tags": []
          },
          "execution_count": 62
        }
      ]
    },
    {
      "cell_type": "markdown",
      "metadata": {
        "id": "RKkE7O-Oxszl",
        "colab_type": "text"
      },
      "source": [
        "**Train Accuracy:0.8844**<br>\n",
        "**Validation Accuaracy:0.9036**<br>\n",
        "**Test Accuarcy:0.8733**<br>"
      ]
    },
    {
      "cell_type": "markdown",
      "metadata": {
        "id": "hH2YZrgd1g81",
        "colab_type": "text"
      },
      "source": [
        "#Save Model\n"
      ]
    },
    {
      "cell_type": "code",
      "metadata": {
        "id": "Uu08J4fOzZJf",
        "colab_type": "code",
        "colab": {}
      },
      "source": [
        "!pip install -U -q PyDrive\n",
        "from pydrive.auth import GoogleAuth\n",
        "from pydrive.drive import GoogleDrive \n",
        "from google.colab import auth \n",
        "from oauth2client.client import GoogleCredentials\n"
      ],
      "execution_count": 0,
      "outputs": []
    },
    {
      "cell_type": "code",
      "metadata": {
        "id": "xBTkan6O1kZx",
        "colab_type": "code",
        "colab": {}
      },
      "source": [
        "auth.authenticate_user()\n",
        "gauth = GoogleAuth()\n",
        "gauth.credentials = GoogleCredentials.get_application_default()\n",
        "drive = GoogleDrive(gauth)\n"
      ],
      "execution_count": 0,
      "outputs": []
    },
    {
      "cell_type": "code",
      "metadata": {
        "id": "Ph4t4OrL1rbK",
        "colab_type": "code",
        "colab": {}
      },
      "source": [
        "model.save('model.h5')\n",
        "model_file = drive.CreateFile({'title' : 'model.h5'}) \n",
        "model_file.SetContentFile('model.h5')\n",
        "model_file.Upload()\n"
      ],
      "execution_count": 0,
      "outputs": []
    },
    {
      "cell_type": "code",
      "metadata": {
        "id": "zKhiOtlZ18DF",
        "colab_type": "code",
        "outputId": "39dd78a0-667c-4557-e022-7a96f8b472b7",
        "colab": {
          "base_uri": "https://localhost:8080/",
          "height": 34
        }
      },
      "source": [
        "# download to google drive    \n",
        "drive.CreateFile({'id': model_file.get('id')})\n"
      ],
      "execution_count": 0,
      "outputs": [
        {
          "output_type": "execute_result",
          "data": {
            "text/plain": [
              "GoogleDriveFile({'id': '1kmdDPZkatzwtUFIeIL56HQJIPnfPhaep'})"
            ]
          },
          "metadata": {
            "tags": []
          },
          "execution_count": 75
        }
      ]
    },
    {
      "cell_type": "markdown",
      "metadata": {
        "id": "_icCFGv_ALOu",
        "colab_type": "text"
      },
      "source": [
        "#Read Model"
      ]
    },
    {
      "cell_type": "code",
      "metadata": {
        "id": "VtYXWhwm2sWa",
        "colab_type": "code",
        "outputId": "23409995-e9bf-4eaf-e3c7-3aa18b7855e9",
        "colab": {
          "base_uri": "https://localhost:8080/",
          "height": 122
        }
      },
      "source": [
        "from google.colab import drive\n",
        "drive.mount('/content/drive')\n"
      ],
      "execution_count": 0,
      "outputs": [
        {
          "output_type": "stream",
          "text": [
            "Go to this URL in a browser: https://accounts.google.com/o/oauth2/auth?client_id=947318989803-6bn6qk8qdgf4n4g3pfee6491hc0brc4i.apps.googleusercontent.com&redirect_uri=urn%3aietf%3awg%3aoauth%3a2.0%3aoob&response_type=code&scope=email%20https%3a%2f%2fwww.googleapis.com%2fauth%2fdocs.test%20https%3a%2f%2fwww.googleapis.com%2fauth%2fdrive%20https%3a%2f%2fwww.googleapis.com%2fauth%2fdrive.photos.readonly%20https%3a%2f%2fwww.googleapis.com%2fauth%2fpeopleapi.readonly\n",
            "\n",
            "Enter your authorization code:\n",
            "··········\n",
            "Mounted at /content/drive\n"
          ],
          "name": "stdout"
        }
      ]
    },
    {
      "cell_type": "code",
      "metadata": {
        "id": "Y2CSCMeO-emD",
        "colab_type": "code",
        "outputId": "02a5959f-a277-43d5-e0de-07f9398559ed",
        "colab": {
          "base_uri": "https://localhost:8080/",
          "height": 51
        }
      },
      "source": [
        "!ls "
      ],
      "execution_count": 0,
      "outputs": [
        {
          "output_type": "stream",
          "text": [
            "adc.json  EarData\t keras.h5  sample_data\ttrain\n",
            "drive\t  Gender_Rec.h5  model.h5  test\t\tval\n"
          ],
          "name": "stdout"
        }
      ]
    },
    {
      "cell_type": "code",
      "metadata": {
        "id": "iniwe0J5-wKM",
        "colab_type": "code",
        "colab": {}
      },
      "source": [
        "from keras.models import load_model\n",
        "readmodel = load_model('model.h5')\n"
      ],
      "execution_count": 0,
      "outputs": []
    },
    {
      "cell_type": "code",
      "metadata": {
        "id": "LQ5Po48OAcQZ",
        "colab_type": "code",
        "outputId": "f2f1afe2-00c0-4728-fb99-0cd70392dc86",
        "colab": {
          "base_uri": "https://localhost:8080/",
          "height": 493
        }
      },
      "source": [
        "readmodel.summary()"
      ],
      "execution_count": 0,
      "outputs": [
        {
          "output_type": "stream",
          "text": [
            "Model: \"sequential_2\"\n",
            "_________________________________________________________________\n",
            "Layer (type)                 Output Shape              Param #   \n",
            "=================================================================\n",
            "conv2d_5 (Conv2D)            (None, 148, 148, 32)      896       \n",
            "_________________________________________________________________\n",
            "max_pooling2d_5 (MaxPooling2 (None, 74, 74, 32)        0         \n",
            "_________________________________________________________________\n",
            "conv2d_6 (Conv2D)            (None, 72, 72, 64)        18496     \n",
            "_________________________________________________________________\n",
            "max_pooling2d_6 (MaxPooling2 (None, 36, 36, 64)        0         \n",
            "_________________________________________________________________\n",
            "conv2d_7 (Conv2D)            (None, 34, 34, 128)       73856     \n",
            "_________________________________________________________________\n",
            "max_pooling2d_7 (MaxPooling2 (None, 17, 17, 128)       0         \n",
            "_________________________________________________________________\n",
            "conv2d_8 (Conv2D)            (None, 15, 15, 128)       147584    \n",
            "_________________________________________________________________\n",
            "max_pooling2d_8 (MaxPooling2 (None, 7, 7, 128)         0         \n",
            "_________________________________________________________________\n",
            "flatten_2 (Flatten)          (None, 6272)              0         \n",
            "_________________________________________________________________\n",
            "dense_2 (Dense)              (None, 2)                 12546     \n",
            "=================================================================\n",
            "Total params: 253,378\n",
            "Trainable params: 253,378\n",
            "Non-trainable params: 0\n",
            "_________________________________________________________________\n"
          ],
          "name": "stdout"
        }
      ]
    },
    {
      "cell_type": "code",
      "metadata": {
        "id": "aBAS53_bAhVU",
        "colab_type": "code",
        "colab": {}
      },
      "source": [
        ""
      ],
      "execution_count": 0,
      "outputs": []
    }
  ]
}