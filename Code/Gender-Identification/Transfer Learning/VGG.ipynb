{
  "nbformat": 4,
  "nbformat_minor": 0,
  "metadata": {
    "colab": {
      "name": "VGG.ipynb",
      "provenance": []
    },
    "kernelspec": {
      "name": "python3",
      "display_name": "Python 3"
    },
    "accelerator": "GPU"
  },
  "cells": [
    {
      "cell_type": "markdown",
      "metadata": {
        "id": "bxVZdDb_Iaqa",
        "colab_type": "text"
      },
      "source": [
        "![alt text](https://miro.medium.com/max/1442/1*DBXf6dzNB78QPHGDofHA4Q.png)\n",
        "\n",
        "#Load Data\n",
        "\n"
      ]
    },
    {
      "cell_type": "code",
      "metadata": {
        "id": "ORHMCwEvIXh0",
        "colab_type": "code",
        "outputId": "77920bc2-0d05-4d64-cda7-a72fcc3417e5",
        "colab": {
          "base_uri": "https://localhost:8080/",
          "height": 119
        }
      },
      "source": [
        "! git clone https://github.com/manmeet0307/EarData\n"
      ],
      "execution_count": 0,
      "outputs": [
        {
          "output_type": "stream",
          "text": [
            "Cloning into 'EarData'...\n",
            "remote: Enumerating objects: 28576, done.\u001b[K\n",
            "remote: Total 28576 (delta 0), reused 0 (delta 0), pack-reused 28576\u001b[K\n",
            "Receiving objects: 100% (28576/28576), 95.41 MiB | 32.29 MiB/s, done.\n",
            "Resolving deltas: 100% (6399/6399), done.\n",
            "Checking out files: 100% (28412/28412), done.\n"
          ],
          "name": "stdout"
        }
      ]
    },
    {
      "cell_type": "code",
      "metadata": {
        "id": "O-OfZQyvIjE-",
        "colab_type": "code",
        "outputId": "4914e339-d054-4d15-c8c3-17ae9acfdf9d",
        "colab": {
          "base_uri": "https://localhost:8080/",
          "height": 80
        }
      },
      "source": [
        "import os,shutil\n",
        "import numpy as np\n",
        "import matplotlib.pyplot as plt\n",
        "from keras.preprocessing import image"
      ],
      "execution_count": 0,
      "outputs": [
        {
          "output_type": "stream",
          "text": [
            "Using TensorFlow backend.\n"
          ],
          "name": "stderr"
        },
        {
          "output_type": "display_data",
          "data": {
            "text/html": [
              "<p style=\"color: red;\">\n",
              "The default version of TensorFlow in Colab will switch to TensorFlow 2.x on the 27th of March, 2020.<br>\n",
              "We recommend you <a href=\"https://www.tensorflow.org/guide/migrate\" target=\"_blank\">upgrade</a> now\n",
              "or ensure your notebook will continue to use TensorFlow 1.x via the <code>%tensorflow_version 1.x</code> magic:\n",
              "<a href=\"https://colab.research.google.com/notebooks/tensorflow_version.ipynb\" target=\"_blank\">more info</a>.</p>\n"
            ],
            "text/plain": [
              "<IPython.core.display.HTML object>"
            ]
          },
          "metadata": {
            "tags": []
          }
        }
      ]
    },
    {
      "cell_type": "markdown",
      "metadata": {
        "id": "ZxAVOG_tJD1E",
        "colab_type": "text"
      },
      "source": [
        "#Divide the Data into Test, Train and Validation Set\n",
        "\n",
        "\n",
        "\n",
        "1.   Create Folders:Test,Train,Validation\n",
        "2.   Split data\n",
        "3.   Rearrage data according to their gender\n",
        "4.   Move the data to their destination folder\n",
        "\n",
        "\n"
      ]
    },
    {
      "cell_type": "code",
      "metadata": {
        "id": "yL5C2HQoImI4",
        "colab_type": "code",
        "colab": {}
      },
      "source": [
        "classes=[\"Male\",\"Female\"]\n",
        "if not os.path.isdir(\"test\"):\n",
        "  os.mkdir(\"test\")\n",
        "\n",
        "if not os.path.isdir(\"val\"):\n",
        "  os.mkdir(\"val\")\n",
        "\n",
        "if not os.path.isdir(\"train\"):\n",
        "  os.mkdir(\"train\")\n",
        "\n",
        "for c in classes:\n",
        "  p=os.path.join(\"test\",c)\n",
        "  if not os.path.isdir(p):\n",
        "    os.mkdir(p)\n",
        "\n",
        "\n",
        "for c in classes:\n",
        "  p=os.path.join(\"train\",c)\n",
        "  if not os.path.isdir(p):\n",
        "    os.mkdir(p)\n",
        "\n",
        "for c in classes:\n",
        "  p=os.path.join(\"val\",c)\n",
        "  if not os.path.isdir(p):\n",
        "    os.mkdir(p)\n"
      ],
      "execution_count": 0,
      "outputs": []
    },
    {
      "cell_type": "code",
      "metadata": {
        "id": "KxdKmu6iJQlC",
        "colab_type": "code",
        "outputId": "b22e0f50-13e5-42a0-905b-1f34158ecaa8",
        "colab": {
          "base_uri": "https://localhost:8080/",
          "height": 34
        }
      },
      "source": [
        "folders=os.listdir(\"EarData\")\n",
        "folders.index(\".git\")\n"
      ],
      "execution_count": 0,
      "outputs": [
        {
          "output_type": "execute_result",
          "data": {
            "text/plain": [
              "18"
            ]
          },
          "metadata": {
            "tags": []
          },
          "execution_count": 6
        }
      ]
    },
    {
      "cell_type": "code",
      "metadata": {
        "id": "BZROglZBJRfY",
        "colab_type": "code",
        "outputId": "facb5ada-2430-4f9d-a7fa-d09d8fedd7bf",
        "colab": {
          "base_uri": "https://localhost:8080/",
          "height": 34
        }
      },
      "source": [
        "folders.pop(18)\n",
        "print(len(folders))"
      ],
      "execution_count": 0,
      "outputs": [
        {
          "output_type": "stream",
          "text": [
            "164\n"
          ],
          "name": "stdout"
        }
      ]
    },
    {
      "cell_type": "code",
      "metadata": {
        "id": "XX0od4jzJVLF",
        "colab_type": "code",
        "colab": {}
      },
      "source": [
        "splitTrain=0.9\n",
        "splitVal=0.8\n",
        "# count=0\n",
        "for f in folders:\n",
        "  Subfolder=\"EarData\"+\"/\"+f\n",
        "  # count=count+1\n",
        "  #print(count)\n",
        "  #Total File in particular folder\n",
        "  imgs=os.listdir(Subfolder)\n",
        "\n",
        "  test_split_size=int(splitTrain*len(imgs))\n",
        "\n",
        "  #Test_Set and Train_Set\n",
        "  train_set=imgs[:test_split_size]\n",
        "  test_set=imgs[test_split_size:]\n",
        "\n",
        "  val_split_size=int(splitVal*len(train_set))\n",
        "\n",
        "  #Validation_Set\n",
        "  val_set=train_set[val_split_size:]\n",
        "  train_set=train_set[:val_split_size]\n",
        "\n",
        "  #Ear Type \n",
        "  label=str(f).split(\".\")[0]\n",
        "  Subfolder_num=int(label)\n",
        "  currLabel=\"Female\"                              \n",
        "  if(Subfolder_num>=1 and Subfolder_num<=98):\n",
        "    currLabel=\"Male\"\n",
        "\n",
        "  #Train\n",
        "  for img_train in train_set:\n",
        "    src=os.path.join(Subfolder,img_train)\n",
        "    dest=os.path.join(\"train/\"+currLabel,img_train)\n",
        "    shutil.move(src,dest)\n",
        "\n",
        "  #Test\n",
        "  for img_test in test_set:\n",
        "    src=os.path.join(Subfolder,img_test)\n",
        "    dest=os.path.join(\"test/\"+currLabel,img_test)\n",
        "    shutil.move(src,dest)\n",
        "\n",
        "  #Validation \n",
        "  for img_val in val_set:\n",
        "    src=os.path.join(Subfolder,img_val)\n",
        "    dest=os.path.join(\"val/\"+currLabel,img_val)\n",
        "    shutil.move(src,dest)"
      ],
      "execution_count": 0,
      "outputs": []
    },
    {
      "cell_type": "code",
      "metadata": {
        "id": "dWZUBIetJYvV",
        "colab_type": "code",
        "outputId": "4f86b491-5286-4d14-97b6-9c69d234eb53",
        "colab": {
          "base_uri": "https://localhost:8080/",
          "height": 170
        }
      },
      "source": [
        "print(\"Train:Female:\",len(os.listdir(\"train/Female\")))\n",
        "print(\"Train:Male:\",len(os.listdir(\"train/Male\")))\n",
        "print(\"****************************************************************************\")\n",
        "print(\"Test:Female:\",len(os.listdir(\"test/Female\")))\n",
        "print(\"Test:Male:\",len(os.listdir(\"test/Male\")))\n",
        "print(\"****************************************************************************\")\n",
        "print(\"Validation:Female:\",len(os.listdir(\"val/Female\")))\n",
        "print(\"Validation:Male:\",len(os.listdir(\"val/Male\")))\n",
        "print(\"****************************************************************************\")\n"
      ],
      "execution_count": 0,
      "outputs": [
        {
          "output_type": "stream",
          "text": [
            "Train:Female: 7767\n",
            "Train:Male: 12471\n",
            "****************************************************************************\n",
            "Test:Female: 1103\n",
            "Test:Male: 1779\n",
            "****************************************************************************\n",
            "Validation:Female: 1971\n",
            "Validation:Male: 3158\n",
            "****************************************************************************\n"
          ],
          "name": "stdout"
        }
      ]
    },
    {
      "cell_type": "markdown",
      "metadata": {
        "id": "ywFMLDjLJj4S",
        "colab_type": "text"
      },
      "source": [
        "#VGG ( Fine Tuning)-13"
      ]
    },
    {
      "cell_type": "code",
      "metadata": {
        "id": "SgWgizWRJi_E",
        "colab_type": "code",
        "colab": {}
      },
      "source": [
        "from keras.models import Model\n",
        "from keras.layers import *\n",
        "from keras import optimizers\n",
        "from keras.applications import *\n"
      ],
      "execution_count": 0,
      "outputs": []
    },
    {
      "cell_type": "code",
      "metadata": {
        "id": "ylAms5R2JbRG",
        "colab_type": "code",
        "outputId": "e3ff3773-2ea5-4762-dc1a-776b683c20e9",
        "colab": {
          "base_uri": "https://localhost:8080/",
          "height": 479
        }
      },
      "source": [
        "vgg=VGG16(include_top=False, weights='imagenet', input_shape=(150,150,3))\n",
        "adam=optimizers.adam(lr=1e-4)\n",
        "vgg.compile(loss='categorical_crossentropy',optimizer=adam,metrics=['acc'])\n"
      ],
      "execution_count": 0,
      "outputs": [
        {
          "output_type": "stream",
          "text": [
            "WARNING:tensorflow:From /usr/local/lib/python3.6/dist-packages/keras/backend/tensorflow_backend.py:66: The name tf.get_default_graph is deprecated. Please use tf.compat.v1.get_default_graph instead.\n",
            "\n",
            "WARNING:tensorflow:From /usr/local/lib/python3.6/dist-packages/keras/backend/tensorflow_backend.py:541: The name tf.placeholder is deprecated. Please use tf.compat.v1.placeholder instead.\n",
            "\n",
            "WARNING:tensorflow:From /usr/local/lib/python3.6/dist-packages/keras/backend/tensorflow_backend.py:4432: The name tf.random_uniform is deprecated. Please use tf.random.uniform instead.\n",
            "\n",
            "WARNING:tensorflow:From /usr/local/lib/python3.6/dist-packages/keras/backend/tensorflow_backend.py:4267: The name tf.nn.max_pool is deprecated. Please use tf.nn.max_pool2d instead.\n",
            "\n",
            "Downloading data from https://github.com/fchollet/deep-learning-models/releases/download/v0.1/vgg16_weights_tf_dim_ordering_tf_kernels_notop.h5\n",
            "58892288/58889256 [==============================] - 2s 0us/step\n",
            "WARNING:tensorflow:From /usr/local/lib/python3.6/dist-packages/keras/backend/tensorflow_backend.py:190: The name tf.get_default_session is deprecated. Please use tf.compat.v1.get_default_session instead.\n",
            "\n",
            "WARNING:tensorflow:From /usr/local/lib/python3.6/dist-packages/keras/backend/tensorflow_backend.py:197: The name tf.ConfigProto is deprecated. Please use tf.compat.v1.ConfigProto instead.\n",
            "\n",
            "WARNING:tensorflow:From /usr/local/lib/python3.6/dist-packages/keras/backend/tensorflow_backend.py:203: The name tf.Session is deprecated. Please use tf.compat.v1.Session instead.\n",
            "\n",
            "WARNING:tensorflow:From /usr/local/lib/python3.6/dist-packages/keras/backend/tensorflow_backend.py:207: The name tf.global_variables is deprecated. Please use tf.compat.v1.global_variables instead.\n",
            "\n",
            "WARNING:tensorflow:From /usr/local/lib/python3.6/dist-packages/keras/backend/tensorflow_backend.py:216: The name tf.is_variable_initialized is deprecated. Please use tf.compat.v1.is_variable_initialized instead.\n",
            "\n",
            "WARNING:tensorflow:From /usr/local/lib/python3.6/dist-packages/keras/backend/tensorflow_backend.py:223: The name tf.variables_initializer is deprecated. Please use tf.compat.v1.variables_initializer instead.\n",
            "\n",
            "WARNING:tensorflow:From /usr/local/lib/python3.6/dist-packages/keras/optimizers.py:793: The name tf.train.Optimizer is deprecated. Please use tf.compat.v1.train.Optimizer instead.\n",
            "\n",
            "WARNING:tensorflow:From /usr/local/lib/python3.6/dist-packages/keras/backend/tensorflow_backend.py:3576: The name tf.log is deprecated. Please use tf.math.log instead.\n",
            "\n"
          ],
          "name": "stdout"
        }
      ]
    },
    {
      "cell_type": "code",
      "metadata": {
        "id": "Wq5worzuMb1b",
        "colab_type": "code",
        "outputId": "720d22fa-63b2-4d40-8fb2-96dcb02cc4ef",
        "colab": {
          "base_uri": "https://localhost:8080/",
          "height": 156
        }
      },
      "source": [
        "av1=GlobalAveragePooling2D()(vgg.output)\n",
        "fc1=Dense(256,activation='relu')(av1)\n",
        "d1=Dropout(0.5)(fc1)\n",
        "fc2=Dense(2,activation='softmax')(d1)\n",
        "\n",
        "new_vgg=Model(input=vgg.input,output=fc2)"
      ],
      "execution_count": 0,
      "outputs": [
        {
          "output_type": "stream",
          "text": [
            "WARNING:tensorflow:From /usr/local/lib/python3.6/dist-packages/keras/backend/tensorflow_backend.py:148: The name tf.placeholder_with_default is deprecated. Please use tf.compat.v1.placeholder_with_default instead.\n",
            "\n",
            "WARNING:tensorflow:From /usr/local/lib/python3.6/dist-packages/keras/backend/tensorflow_backend.py:3733: calling dropout (from tensorflow.python.ops.nn_ops) with keep_prob is deprecated and will be removed in a future version.\n",
            "Instructions for updating:\n",
            "Please use `rate` instead of `keep_prob`. Rate should be set to `rate = 1 - keep_prob`.\n"
          ],
          "name": "stdout"
        },
        {
          "output_type": "stream",
          "text": [
            "/usr/local/lib/python3.6/dist-packages/ipykernel_launcher.py:6: UserWarning: Update your `Model` call to the Keras 2 API: `Model(inputs=Tensor(\"in..., outputs=Tensor(\"de...)`\n",
            "  \n"
          ],
          "name": "stderr"
        }
      ]
    },
    {
      "cell_type": "code",
      "metadata": {
        "id": "CDqr2t0ZMmNW",
        "colab_type": "code",
        "outputId": "d0abbbb9-e0f2-431d-8d36-8f08b7fd4aa5",
        "colab": {
          "base_uri": "https://localhost:8080/",
          "height": 935
        }
      },
      "source": [
        "new_vgg.compile(loss='categorical_crossentropy',optimizer=adam,metrics=['acc'])\n",
        "new_vgg.summary()"
      ],
      "execution_count": 0,
      "outputs": [
        {
          "output_type": "stream",
          "text": [
            "Model: \"model_1\"\n",
            "_________________________________________________________________\n",
            "Layer (type)                 Output Shape              Param #   \n",
            "=================================================================\n",
            "input_1 (InputLayer)         (None, 150, 150, 3)       0         \n",
            "_________________________________________________________________\n",
            "block1_conv1 (Conv2D)        (None, 150, 150, 64)      1792      \n",
            "_________________________________________________________________\n",
            "block1_conv2 (Conv2D)        (None, 150, 150, 64)      36928     \n",
            "_________________________________________________________________\n",
            "block1_pool (MaxPooling2D)   (None, 75, 75, 64)        0         \n",
            "_________________________________________________________________\n",
            "block2_conv1 (Conv2D)        (None, 75, 75, 128)       73856     \n",
            "_________________________________________________________________\n",
            "block2_conv2 (Conv2D)        (None, 75, 75, 128)       147584    \n",
            "_________________________________________________________________\n",
            "block2_pool (MaxPooling2D)   (None, 37, 37, 128)       0         \n",
            "_________________________________________________________________\n",
            "block3_conv1 (Conv2D)        (None, 37, 37, 256)       295168    \n",
            "_________________________________________________________________\n",
            "block3_conv2 (Conv2D)        (None, 37, 37, 256)       590080    \n",
            "_________________________________________________________________\n",
            "block3_conv3 (Conv2D)        (None, 37, 37, 256)       590080    \n",
            "_________________________________________________________________\n",
            "block3_pool (MaxPooling2D)   (None, 18, 18, 256)       0         \n",
            "_________________________________________________________________\n",
            "block4_conv1 (Conv2D)        (None, 18, 18, 512)       1180160   \n",
            "_________________________________________________________________\n",
            "block4_conv2 (Conv2D)        (None, 18, 18, 512)       2359808   \n",
            "_________________________________________________________________\n",
            "block4_conv3 (Conv2D)        (None, 18, 18, 512)       2359808   \n",
            "_________________________________________________________________\n",
            "block4_pool (MaxPooling2D)   (None, 9, 9, 512)         0         \n",
            "_________________________________________________________________\n",
            "block5_conv1 (Conv2D)        (None, 9, 9, 512)         2359808   \n",
            "_________________________________________________________________\n",
            "block5_conv2 (Conv2D)        (None, 9, 9, 512)         2359808   \n",
            "_________________________________________________________________\n",
            "block5_conv3 (Conv2D)        (None, 9, 9, 512)         2359808   \n",
            "_________________________________________________________________\n",
            "block5_pool (MaxPooling2D)   (None, 4, 4, 512)         0         \n",
            "_________________________________________________________________\n",
            "global_average_pooling2d_1 ( (None, 512)               0         \n",
            "_________________________________________________________________\n",
            "dense_1 (Dense)              (None, 256)               131328    \n",
            "_________________________________________________________________\n",
            "dropout_1 (Dropout)          (None, 256)               0         \n",
            "_________________________________________________________________\n",
            "dense_2 (Dense)              (None, 2)                 514       \n",
            "=================================================================\n",
            "Total params: 14,846,530\n",
            "Trainable params: 14,846,530\n",
            "Non-trainable params: 0\n",
            "_________________________________________________________________\n"
          ],
          "name": "stdout"
        }
      ]
    },
    {
      "cell_type": "code",
      "metadata": {
        "id": "hm-xkdcMMyDs",
        "colab_type": "code",
        "outputId": "b77f1a0a-2598-4a20-da32-59f2357928bd",
        "colab": {
          "base_uri": "https://localhost:8080/",
          "height": 408
        }
      },
      "source": [
        "for ix in range(len(new_vgg.layers)):\n",
        "  print(ix, new_vgg.layers[ix])"
      ],
      "execution_count": 0,
      "outputs": [
        {
          "output_type": "stream",
          "text": [
            "0 <keras.engine.input_layer.InputLayer object at 0x7f0385105668>\n",
            "1 <keras.layers.convolutional.Conv2D object at 0x7f03851057b8>\n",
            "2 <keras.layers.convolutional.Conv2D object at 0x7f03c0906630>\n",
            "3 <keras.layers.pooling.MaxPooling2D object at 0x7f03850d6630>\n",
            "4 <keras.layers.convolutional.Conv2D object at 0x7f03850f4860>\n",
            "5 <keras.layers.convolutional.Conv2D object at 0x7f03848a77b8>\n",
            "6 <keras.layers.pooling.MaxPooling2D object at 0x7f03848ac6a0>\n",
            "7 <keras.layers.convolutional.Conv2D object at 0x7f03848b3c50>\n",
            "8 <keras.layers.convolutional.Conv2D object at 0x7f03848b7d30>\n",
            "9 <keras.layers.convolutional.Conv2D object at 0x7f03848bec18>\n",
            "10 <keras.layers.pooling.MaxPooling2D object at 0x7f03848c9400>\n",
            "11 <keras.layers.convolutional.Conv2D object at 0x7f0384850b00>\n",
            "12 <keras.layers.convolutional.Conv2D object at 0x7f0384855c50>\n",
            "13 <keras.layers.convolutional.Conv2D object at 0x7f038485bac8>\n",
            "14 <keras.layers.pooling.MaxPooling2D object at 0x7f0384869320>\n",
            "15 <keras.layers.convolutional.Conv2D object at 0x7f038486fa58>\n",
            "16 <keras.layers.convolutional.Conv2D object at 0x7f0384878b70>\n",
            "17 <keras.layers.convolutional.Conv2D object at 0x7f038487c9e8>\n",
            "18 <keras.layers.pooling.MaxPooling2D object at 0x7f0384888240>\n",
            "19 <keras.layers.pooling.GlobalAveragePooling2D object at 0x7f037639dfd0>\n",
            "20 <keras.layers.core.Dense object at 0x7f037639df28>\n",
            "21 <keras.layers.core.Dropout object at 0x7f03763230b8>\n",
            "22 <keras.layers.core.Dense object at 0x7f0376323470>\n"
          ],
          "name": "stdout"
        }
      ]
    },
    {
      "cell_type": "code",
      "metadata": {
        "id": "y3JgDmE1M9rn",
        "colab_type": "code",
        "colab": {}
      },
      "source": [
        "for ix in range(14):\n",
        "  new_vgg.layers[ix].trainable=False\n"
      ],
      "execution_count": 0,
      "outputs": []
    },
    {
      "cell_type": "code",
      "metadata": {
        "id": "ZcSPBu3vNXkk",
        "colab_type": "code",
        "outputId": "103dfb10-80ef-4e4e-dee1-d94ef24628ad",
        "colab": {
          "base_uri": "https://localhost:8080/",
          "height": 935
        }
      },
      "source": [
        "new_vgg.compile(loss='categorical_crossentropy',optimizer=adam,metrics=['acc'])\n",
        "new_vgg.summary()"
      ],
      "execution_count": 0,
      "outputs": [
        {
          "output_type": "stream",
          "text": [
            "Model: \"model_1\"\n",
            "_________________________________________________________________\n",
            "Layer (type)                 Output Shape              Param #   \n",
            "=================================================================\n",
            "input_1 (InputLayer)         (None, 150, 150, 3)       0         \n",
            "_________________________________________________________________\n",
            "block1_conv1 (Conv2D)        (None, 150, 150, 64)      1792      \n",
            "_________________________________________________________________\n",
            "block1_conv2 (Conv2D)        (None, 150, 150, 64)      36928     \n",
            "_________________________________________________________________\n",
            "block1_pool (MaxPooling2D)   (None, 75, 75, 64)        0         \n",
            "_________________________________________________________________\n",
            "block2_conv1 (Conv2D)        (None, 75, 75, 128)       73856     \n",
            "_________________________________________________________________\n",
            "block2_conv2 (Conv2D)        (None, 75, 75, 128)       147584    \n",
            "_________________________________________________________________\n",
            "block2_pool (MaxPooling2D)   (None, 37, 37, 128)       0         \n",
            "_________________________________________________________________\n",
            "block3_conv1 (Conv2D)        (None, 37, 37, 256)       295168    \n",
            "_________________________________________________________________\n",
            "block3_conv2 (Conv2D)        (None, 37, 37, 256)       590080    \n",
            "_________________________________________________________________\n",
            "block3_conv3 (Conv2D)        (None, 37, 37, 256)       590080    \n",
            "_________________________________________________________________\n",
            "block3_pool (MaxPooling2D)   (None, 18, 18, 256)       0         \n",
            "_________________________________________________________________\n",
            "block4_conv1 (Conv2D)        (None, 18, 18, 512)       1180160   \n",
            "_________________________________________________________________\n",
            "block4_conv2 (Conv2D)        (None, 18, 18, 512)       2359808   \n",
            "_________________________________________________________________\n",
            "block4_conv3 (Conv2D)        (None, 18, 18, 512)       2359808   \n",
            "_________________________________________________________________\n",
            "block4_pool (MaxPooling2D)   (None, 9, 9, 512)         0         \n",
            "_________________________________________________________________\n",
            "block5_conv1 (Conv2D)        (None, 9, 9, 512)         2359808   \n",
            "_________________________________________________________________\n",
            "block5_conv2 (Conv2D)        (None, 9, 9, 512)         2359808   \n",
            "_________________________________________________________________\n",
            "block5_conv3 (Conv2D)        (None, 9, 9, 512)         2359808   \n",
            "_________________________________________________________________\n",
            "block5_pool (MaxPooling2D)   (None, 4, 4, 512)         0         \n",
            "_________________________________________________________________\n",
            "global_average_pooling2d_1 ( (None, 512)               0         \n",
            "_________________________________________________________________\n",
            "dense_1 (Dense)              (None, 256)               131328    \n",
            "_________________________________________________________________\n",
            "dropout_1 (Dropout)          (None, 256)               0         \n",
            "_________________________________________________________________\n",
            "dense_2 (Dense)              (None, 2)                 514       \n",
            "=================================================================\n",
            "Total params: 14,846,530\n",
            "Trainable params: 7,211,266\n",
            "Non-trainable params: 7,635,264\n",
            "_________________________________________________________________\n"
          ],
          "name": "stdout"
        }
      ]
    },
    {
      "cell_type": "markdown",
      "metadata": {
        "id": "Sbj1qinGNpM4",
        "colab_type": "text"
      },
      "source": [
        "#Image Data Generator"
      ]
    },
    {
      "cell_type": "code",
      "metadata": {
        "id": "ydNJpjeDNddW",
        "colab_type": "code",
        "colab": {}
      },
      "source": [
        "from keras.preprocessing import image\n",
        "from keras.preprocessing.image import ImageDataGenerator"
      ],
      "execution_count": 0,
      "outputs": []
    },
    {
      "cell_type": "code",
      "metadata": {
        "id": "4fZ3W_b8NuwC",
        "colab_type": "code",
        "outputId": "a4e071af-ce31-4173-d26a-e43a269130f4",
        "colab": {
          "base_uri": "https://localhost:8080/",
          "height": 34
        }
      },
      "source": [
        "image_gen=ImageDataGenerator(\n",
        "    rescale=1/255.0,\n",
        "    rotation_range=20,\n",
        "    width_shift_range=0.2,\n",
        "    height_shift_range=0.2,\n",
        "    shear_range=0.2,\n",
        "    zoom_range=0.3,\n",
        ")\n",
        "\n",
        "val_gen=ImageDataGenerator(\n",
        "    rescale=1/255.0,\n",
        ")\n",
        "\n",
        "train_generator=image_gen.flow_from_directory(\n",
        "    \"train/\",\n",
        "    target_size=(150,150),\n",
        "    class_mode='categorical',\n",
        "    batch_size=32,\n",
        "    shuffle=True\n",
        ")"
      ],
      "execution_count": 0,
      "outputs": [
        {
          "output_type": "stream",
          "text": [
            "Found 20238 images belonging to 2 classes.\n"
          ],
          "name": "stdout"
        }
      ]
    },
    {
      "cell_type": "code",
      "metadata": {
        "id": "t7h2S3R_NvcO",
        "colab_type": "code",
        "outputId": "9f09c1de-b260-4f76-d3a3-70f1b0a8c3a5",
        "colab": {
          "base_uri": "https://localhost:8080/",
          "height": 34
        }
      },
      "source": [
        "val_generator=val_gen.flow_from_directory(\n",
        "    \"val/\",\n",
        "    target_size=(150,150),\n",
        "    class_mode='categorical',\n",
        "    batch_size=32,\n",
        "    shuffle=True\n",
        ")"
      ],
      "execution_count": 0,
      "outputs": [
        {
          "output_type": "stream",
          "text": [
            "Found 5129 images belonging to 2 classes.\n"
          ],
          "name": "stdout"
        }
      ]
    },
    {
      "cell_type": "markdown",
      "metadata": {
        "id": "3Ny-NA10aLD0",
        "colab_type": "text"
      },
      "source": [
        "#Training"
      ]
    },
    {
      "cell_type": "code",
      "metadata": {
        "id": "STQjaqMxaJow",
        "colab_type": "code",
        "colab": {}
      },
      "source": [
        ""
      ],
      "execution_count": 0,
      "outputs": []
    },
    {
      "cell_type": "code",
      "metadata": {
        "id": "1d-p211OOIDW",
        "colab_type": "code",
        "outputId": "b702b27d-aaa8-4713-9bd7-2237bcba7119",
        "colab": {
          "base_uri": "https://localhost:8080/",
          "height": 496
        }
      },
      "source": [
        "hist=new_vgg.fit_generator(\n",
        "    train_generator,\n",
        "    epochs=10,\n",
        "    steps_per_epoch=851,\n",
        "    validation_data=val_generator,\n",
        "    validation_steps=12\n",
        "    )"
      ],
      "execution_count": 0,
      "outputs": [
        {
          "output_type": "stream",
          "text": [
            "WARNING:tensorflow:From /tensorflow-1.15.0/python3.6/tensorflow_core/python/ops/math_grad.py:1424: where (from tensorflow.python.ops.array_ops) is deprecated and will be removed in a future version.\n",
            "Instructions for updating:\n",
            "Use tf.where in 2.0, which has the same broadcast rule as np.where\n",
            "WARNING:tensorflow:From /usr/local/lib/python3.6/dist-packages/keras/backend/tensorflow_backend.py:1033: The name tf.assign_add is deprecated. Please use tf.compat.v1.assign_add instead.\n",
            "\n",
            "WARNING:tensorflow:From /usr/local/lib/python3.6/dist-packages/keras/backend/tensorflow_backend.py:1020: The name tf.assign is deprecated. Please use tf.compat.v1.assign instead.\n",
            "\n",
            "Epoch 1/10\n",
            "851/851 [==============================] - 151s 177ms/step - loss: 0.4415 - acc: 0.7964 - val_loss: 0.3025 - val_acc: 0.8750\n",
            "Epoch 2/10\n",
            "851/851 [==============================] - 144s 169ms/step - loss: 0.3120 - acc: 0.8693 - val_loss: 0.1947 - val_acc: 0.9219\n",
            "Epoch 3/10\n",
            "851/851 [==============================] - 145s 171ms/step - loss: 0.2737 - acc: 0.8890 - val_loss: 0.1774 - val_acc: 0.9219\n",
            "Epoch 4/10\n",
            "851/851 [==============================] - 144s 169ms/step - loss: 0.2398 - acc: 0.9028 - val_loss: 0.2294 - val_acc: 0.9010\n",
            "Epoch 5/10\n",
            "851/851 [==============================] - 145s 170ms/step - loss: 0.2150 - acc: 0.9135 - val_loss: 0.2133 - val_acc: 0.9219\n",
            "Epoch 6/10\n",
            "851/851 [==============================] - 143s 168ms/step - loss: 0.1954 - acc: 0.9226 - val_loss: 0.2024 - val_acc: 0.9167\n",
            "Epoch 7/10\n",
            "851/851 [==============================] - 144s 170ms/step - loss: 0.1734 - acc: 0.9313 - val_loss: 0.1759 - val_acc: 0.9193\n",
            "Epoch 8/10\n",
            "851/851 [==============================] - 143s 168ms/step - loss: 0.1667 - acc: 0.9365 - val_loss: 0.1788 - val_acc: 0.9401\n",
            "Epoch 9/10\n",
            "851/851 [==============================] - 145s 171ms/step - loss: 0.1503 - acc: 0.9425 - val_loss: 0.2069 - val_acc: 0.9271\n",
            "Epoch 10/10\n",
            "851/851 [==============================] - 144s 170ms/step - loss: 0.1409 - acc: 0.9456 - val_loss: 0.2068 - val_acc: 0.9375\n"
          ],
          "name": "stdout"
        }
      ]
    },
    {
      "cell_type": "code",
      "metadata": {
        "id": "FhB95XieONeo",
        "colab_type": "code",
        "outputId": "622d3943-22e4-4298-ffc0-538d02735f26",
        "colab": {
          "base_uri": "https://localhost:8080/",
          "height": 295
        }
      },
      "source": [
        "ACC=hist.history['acc']\n",
        "VAL_ACC=hist.history['val_acc']\n",
        "# Plot history: Accuracy\n",
        "plt.plot(ACC, label='Accuracy (testing data)')\n",
        "plt.plot(VAL_ACC, label='Accuracy (validation data)')\n",
        "plt.title('Accuracy')\n",
        "plt.ylabel('Accuary value')\n",
        "plt.xlabel('No. epoch')\n",
        "plt.legend()\n",
        "plt.show()\n"
      ],
      "execution_count": 0,
      "outputs": [
        {
          "output_type": "display_data",
          "data": {
            "image/png": "[encoded data removed]",
            "text/plain": [
              "<Figure size 432x288 with 1 Axes>"
            ]
          },
          "metadata": {
            "tags": []
          }
        }
      ]
    },
    {
      "cell_type": "code",
      "metadata": {
        "id": "RZnvtdRMU6GO",
        "colab_type": "code",
        "outputId": "526372be-2840-4bc7-9db5-362bded73175",
        "colab": {
          "base_uri": "https://localhost:8080/",
          "height": 295
        }
      },
      "source": [
        "LOSS=hist.history['loss']\n",
        "VAL_LOSS=hist.history['val_loss']\n",
        "# Plot history: Mean Absolute Error\n",
        "plt.plot(LOSS, label='MAE (testing data)')\n",
        "plt.plot(VAL_LOSS, label='MAE (validation data)')\n",
        "plt.title('Mean Absolute Error')\n",
        "plt.ylabel('MAE value')\n",
        "plt.xlabel('No. epoch')\n",
        "plt.legend()\n",
        "plt.show()\n"
      ],
      "execution_count": 0,
      "outputs": [
        {
          "output_type": "display_data",
          "data": {
            "image/png": "[encoded data removed]",
            "text/plain": [
              "<Figure size 432x288 with 1 Axes>"
            ]
          },
          "metadata": {
            "tags": []
          }
        }
      ]
    },
    {
      "cell_type": "code",
      "metadata": {
        "id": "9Ub5ovtYVKLe",
        "colab_type": "code",
        "outputId": "e23ad03a-fec2-48b6-e422-48a11f8c8000",
        "colab": {
          "base_uri": "https://localhost:8080/",
          "height": 295
        }
      },
      "source": [
        "LOSS=hist.history['loss']\n",
        "VAL_LOSS=hist.history['val_loss']\n",
        "ACC=hist.history['acc']\n",
        "VAL_ACC=hist.history['val_acc']\n",
        "\n",
        "plt.plot(ACC, label='Accuracy (testing data)')\n",
        "plt.plot(VAL_ACC, label='Accuracy (validation data)')\n",
        "plt.plot(LOSS, label='MAE (testing data)')\n",
        "plt.plot(VAL_LOSS, label='MAE (validation data)')\n",
        "plt.title('History')\n",
        "plt.ylabel('Value')\n",
        "plt.xlabel('No. epoch')\n",
        "plt.legend()\n",
        "plt.show()\n"
      ],
      "execution_count": 0,
      "outputs": [
        {
          "output_type": "display_data",
          "data": {
            "image/png": "[encoded data removed]",
            "text/plain": [
              "<Figure size 432x288 with 1 Axes>"
            ]
          },
          "metadata": {
            "tags": []
          }
        }
      ]
    },
    {
      "cell_type": "code",
      "metadata": {
        "id": "R0C3aA8EVa9C",
        "colab_type": "code",
        "outputId": "48c322db-b95a-4cf4-f945-c83c748b898d",
        "colab": {
          "base_uri": "https://localhost:8080/",
          "height": 34
        }
      },
      "source": [
        "test_generator=val_gen.flow_from_directory(\n",
        "    \"test/\",\n",
        "    target_size=(150,150),\n",
        "    class_mode='categorical',\n",
        "    batch_size=32,\n",
        "    shuffle=True\n",
        ")"
      ],
      "execution_count": 0,
      "outputs": [
        {
          "output_type": "stream",
          "text": [
            "Found 2882 images belonging to 2 classes.\n"
          ],
          "name": "stdout"
        }
      ]
    },
    {
      "cell_type": "code",
      "metadata": {
        "id": "5-S0l-OnVyfk",
        "colab_type": "code",
        "colab": {}
      },
      "source": [
        "test_hist=new_vgg.evaluate_generator(\n",
        "    test_generator,\n",
        "    steps=91\n",
        ")"
      ],
      "execution_count": 0,
      "outputs": []
    },
    {
      "cell_type": "code",
      "metadata": {
        "id": "QFRJeMyXWDBJ",
        "colab_type": "code",
        "outputId": "f6702729-6342-4e02-ba7e-4065b4710127",
        "colab": {
          "base_uri": "https://localhost:8080/",
          "height": 34
        }
      },
      "source": [
        "test_hist"
      ],
      "execution_count": 0,
      "outputs": [
        {
          "output_type": "execute_result",
          "data": {
            "text/plain": [
              "[0.23736066232352354, 0.9212352532963219]"
            ]
          },
          "metadata": {
            "tags": []
          },
          "execution_count": 27
        }
      ]
    },
    {
      "cell_type": "markdown",
      "metadata": {
        "id": "TSB-34JjY-Tf",
        "colab_type": "text"
      },
      "source": [
        "#VGG ( Fine Tuning)-10\n",
        "\n",
        "\n"
      ]
    },
    {
      "cell_type": "code",
      "metadata": {
        "id": "vUXIMNAfZS8B",
        "colab_type": "code",
        "colab": {}
      },
      "source": [
        "vgg=VGG16(include_top=False, weights='imagenet', input_shape=(150,150,3))\n",
        "adam=optimizers.adam(lr=1e-4)\n",
        "vgg.compile(loss='categorical_crossentropy',optimizer=adam,metrics=['acc'])\n"
      ],
      "execution_count": 0,
      "outputs": []
    },
    {
      "cell_type": "code",
      "metadata": {
        "id": "MFcgX_1RZhua",
        "colab_type": "code",
        "outputId": "a20450e1-a4b7-4a09-df34-e16b5c0a4958",
        "colab": {
          "base_uri": "https://localhost:8080/",
          "height": 71
        }
      },
      "source": [
        "av1=GlobalAveragePooling2D()(vgg.output)\n",
        "fc1=Dense(256,activation='relu')(av1)\n",
        "d1=Dropout(0.5)(fc1)\n",
        "fc2=Dense(2,activation='softmax')(d1)\n",
        "\n",
        "new_vgg=Model(input=vgg.input,output=fc2)"
      ],
      "execution_count": 0,
      "outputs": [
        {
          "output_type": "stream",
          "text": [
            "/usr/local/lib/python3.6/dist-packages/ipykernel_launcher.py:6: UserWarning: Update your `Model` call to the Keras 2 API: `Model(inputs=Tensor(\"in..., outputs=Tensor(\"de...)`\n",
            "  \n"
          ],
          "name": "stderr"
        }
      ]
    },
    {
      "cell_type": "code",
      "metadata": {
        "id": "IYjjdOUdZwvT",
        "colab_type": "code",
        "colab": {}
      },
      "source": [
        "new_vgg.compile(loss='categorical_crossentropy',optimizer=adam,metrics=['acc'])\n"
      ],
      "execution_count": 0,
      "outputs": []
    },
    {
      "cell_type": "code",
      "metadata": {
        "id": "yqt-SW4KZ0ph",
        "colab_type": "code",
        "colab": {}
      },
      "source": [
        "for ix in range(11):\n",
        "  new_vgg.layers[ix].trainable=False\n"
      ],
      "execution_count": 0,
      "outputs": []
    },
    {
      "cell_type": "code",
      "metadata": {
        "id": "1kY6lXklaAcJ",
        "colab_type": "code",
        "outputId": "b27ea488-a7de-4ff1-9607-84e3c84ae845",
        "colab": {
          "base_uri": "https://localhost:8080/",
          "height": 935
        }
      },
      "source": [
        "new_vgg.compile(loss='categorical_crossentropy',optimizer=adam,metrics=['acc'])\n",
        "new_vgg.summary()"
      ],
      "execution_count": 0,
      "outputs": [
        {
          "output_type": "stream",
          "text": [
            "Model: \"model_2\"\n",
            "_________________________________________________________________\n",
            "Layer (type)                 Output Shape              Param #   \n",
            "=================================================================\n",
            "input_3 (InputLayer)         (None, 150, 150, 3)       0         \n",
            "_________________________________________________________________\n",
            "block1_conv1 (Conv2D)        (None, 150, 150, 64)      1792      \n",
            "_________________________________________________________________\n",
            "block1_conv2 (Conv2D)        (None, 150, 150, 64)      36928     \n",
            "_________________________________________________________________\n",
            "block1_pool (MaxPooling2D)   (None, 75, 75, 64)        0         \n",
            "_________________________________________________________________\n",
            "block2_conv1 (Conv2D)        (None, 75, 75, 128)       73856     \n",
            "_________________________________________________________________\n",
            "block2_conv2 (Conv2D)        (None, 75, 75, 128)       147584    \n",
            "_________________________________________________________________\n",
            "block2_pool (MaxPooling2D)   (None, 37, 37, 128)       0         \n",
            "_________________________________________________________________\n",
            "block3_conv1 (Conv2D)        (None, 37, 37, 256)       295168    \n",
            "_________________________________________________________________\n",
            "block3_conv2 (Conv2D)        (None, 37, 37, 256)       590080    \n",
            "_________________________________________________________________\n",
            "block3_conv3 (Conv2D)        (None, 37, 37, 256)       590080    \n",
            "_________________________________________________________________\n",
            "block3_pool (MaxPooling2D)   (None, 18, 18, 256)       0         \n",
            "_________________________________________________________________\n",
            "block4_conv1 (Conv2D)        (None, 18, 18, 512)       1180160   \n",
            "_________________________________________________________________\n",
            "block4_conv2 (Conv2D)        (None, 18, 18, 512)       2359808   \n",
            "_________________________________________________________________\n",
            "block4_conv3 (Conv2D)        (None, 18, 18, 512)       2359808   \n",
            "_________________________________________________________________\n",
            "block4_pool (MaxPooling2D)   (None, 9, 9, 512)         0         \n",
            "_________________________________________________________________\n",
            "block5_conv1 (Conv2D)        (None, 9, 9, 512)         2359808   \n",
            "_________________________________________________________________\n",
            "block5_conv2 (Conv2D)        (None, 9, 9, 512)         2359808   \n",
            "_________________________________________________________________\n",
            "block5_conv3 (Conv2D)        (None, 9, 9, 512)         2359808   \n",
            "_________________________________________________________________\n",
            "block5_pool (MaxPooling2D)   (None, 4, 4, 512)         0         \n",
            "_________________________________________________________________\n",
            "global_average_pooling2d_2 ( (None, 512)               0         \n",
            "_________________________________________________________________\n",
            "dense_3 (Dense)              (None, 256)               131328    \n",
            "_________________________________________________________________\n",
            "dropout_2 (Dropout)          (None, 256)               0         \n",
            "_________________________________________________________________\n",
            "dense_4 (Dense)              (None, 2)                 514       \n",
            "=================================================================\n",
            "Total params: 14,846,530\n",
            "Trainable params: 13,111,042\n",
            "Non-trainable params: 1,735,488\n",
            "_________________________________________________________________\n"
          ],
          "name": "stdout"
        }
      ]
    },
    {
      "cell_type": "code",
      "metadata": {
        "id": "MXFWjdIKaEb_",
        "colab_type": "code",
        "outputId": "2be6e10c-a95c-4e93-bf91-afd982b6ae53",
        "colab": {
          "base_uri": "https://localhost:8080/",
          "height": 357
        }
      },
      "source": [
        "hist=new_vgg.fit_generator(\n",
        "    train_generator,\n",
        "    epochs=10,\n",
        "    steps_per_epoch=851,\n",
        "    validation_data=val_generator,\n",
        "    validation_steps=12\n",
        "    )"
      ],
      "execution_count": 0,
      "outputs": [
        {
          "output_type": "stream",
          "text": [
            "Epoch 1/10\n",
            "851/851 [==============================] - 152s 179ms/step - loss: 0.5063 - acc: 0.7517 - val_loss: 0.2738 - val_acc: 0.8906\n",
            "Epoch 2/10\n",
            "851/851 [==============================] - 153s 180ms/step - loss: 0.3267 - acc: 0.8625 - val_loss: 0.2190 - val_acc: 0.9167\n",
            "Epoch 3/10\n",
            "851/851 [==============================] - 151s 178ms/step - loss: 0.2679 - acc: 0.8932 - val_loss: 0.2122 - val_acc: 0.9062\n",
            "Epoch 4/10\n",
            "851/851 [==============================] - 153s 180ms/step - loss: 0.2320 - acc: 0.9091 - val_loss: 0.1710 - val_acc: 0.9297\n",
            "Epoch 5/10\n",
            "851/851 [==============================] - 155s 182ms/step - loss: 0.2128 - acc: 0.9162 - val_loss: 0.1917 - val_acc: 0.9323\n",
            "Epoch 6/10\n",
            "851/851 [==============================] - 154s 181ms/step - loss: 0.1889 - acc: 0.9242 - val_loss: 0.1835 - val_acc: 0.9219\n",
            "Epoch 7/10\n",
            "851/851 [==============================] - 156s 183ms/step - loss: 0.1706 - acc: 0.9334 - val_loss: 0.2104 - val_acc: 0.9271\n",
            "Epoch 8/10\n",
            "851/851 [==============================] - 155s 182ms/step - loss: 0.1562 - acc: 0.9396 - val_loss: 0.2316 - val_acc: 0.9349\n",
            "Epoch 9/10\n",
            "851/851 [==============================] - 153s 180ms/step - loss: 0.1402 - acc: 0.9448 - val_loss: 0.1588 - val_acc: 0.9427\n",
            "Epoch 10/10\n",
            "851/851 [==============================] - 154s 181ms/step - loss: 0.1287 - acc: 0.9497 - val_loss: 0.1570 - val_acc: 0.9505\n"
          ],
          "name": "stdout"
        }
      ]
    },
    {
      "cell_type": "code",
      "metadata": {
        "id": "JhmJhSv-aqOn",
        "colab_type": "code",
        "outputId": "644a60ca-970f-4a40-ca32-ecf42b2e8bb8",
        "colab": {
          "base_uri": "https://localhost:8080/",
          "height": 187
        }
      },
      "source": [
        "hist1=new_vgg.fit_generator(\n",
        "    train_generator,\n",
        "    epochs=5,\n",
        "    steps_per_epoch=851,\n",
        "    validation_data=val_generator,\n",
        "    validation_steps=12\n",
        "    )"
      ],
      "execution_count": 0,
      "outputs": [
        {
          "output_type": "stream",
          "text": [
            "Epoch 1/5\n",
            "851/851 [==============================] - 155s 182ms/step - loss: 0.1194 - acc: 0.9554 - val_loss: 0.1657 - val_acc: 0.9375\n",
            "Epoch 2/5\n",
            "851/851 [==============================] - 154s 181ms/step - loss: 0.1088 - acc: 0.9596 - val_loss: 0.3061 - val_acc: 0.9271\n",
            "Epoch 3/5\n",
            "851/851 [==============================] - 155s 182ms/step - loss: 0.1037 - acc: 0.9606 - val_loss: 0.1104 - val_acc: 0.9479\n",
            "Epoch 4/5\n",
            "851/851 [==============================] - 156s 183ms/step - loss: 0.0895 - acc: 0.9672 - val_loss: 0.1900 - val_acc: 0.9375\n",
            "Epoch 5/5\n",
            "851/851 [==============================] - 154s 182ms/step - loss: 0.0857 - acc: 0.9695 - val_loss: 0.1801 - val_acc: 0.9479\n"
          ],
          "name": "stdout"
        }
      ]
    },
    {
      "cell_type": "code",
      "metadata": {
        "id": "yf_kHXXWgpot",
        "colab_type": "code",
        "outputId": "a288e2e3-3d40-4cbc-897e-cb8c8dc90f2f",
        "colab": {
          "base_uri": "https://localhost:8080/",
          "height": 295
        }
      },
      "source": [
        "ACC=hist.history['acc']+hist1.history['acc']\n",
        "VAL_ACC=hist.history['val_acc']+hist1.history['val_acc']\n",
        "# Plot history: Accuracy\n",
        "plt.plot(ACC, label='Accuracy (testing data)')\n",
        "plt.plot(VAL_ACC, label='Accuracy (validation data)')\n",
        "plt.title('Accuracy')\n",
        "plt.ylabel('Accuary value')\n",
        "plt.xlabel('No. epoch')\n",
        "plt.legend()\n",
        "plt.show()\n"
      ],
      "execution_count": 0,
      "outputs": [
        {
          "output_type": "display_data",
          "data": {
            "image/png": "[encoded data removed]",
            "text/plain": [
              "<Figure size 432x288 with 1 Axes>"
            ]
          },
          "metadata": {
            "tags": []
          }
        }
      ]
    },
    {
      "cell_type": "code",
      "metadata": {
        "id": "2xkBT5RJkAfD",
        "colab_type": "code",
        "outputId": "e3040ea8-6a1a-4846-9a7f-541e6f820efa",
        "colab": {
          "base_uri": "https://localhost:8080/",
          "height": 295
        }
      },
      "source": [
        "LOSS=hist.history['loss']+hist1.history['loss']\n",
        "VAL_LOSS=hist.history['val_loss']+hist1.history['val_loss']\n",
        "\n",
        "plt.plot(LOSS, label='MAE (testing data)')\n",
        "plt.plot(VAL_LOSS, label='MAE (validation data)')\n",
        "plt.title('Mean Absolute Error')\n",
        "plt.ylabel('Value')\n",
        "plt.xlabel('No. epoch')\n",
        "plt.legend()\n",
        "plt.show()\n"
      ],
      "execution_count": 0,
      "outputs": [
        {
          "output_type": "display_data",
          "data": {
            "image/png": "[encoded data removed]",
            "text/plain": [
              "<Figure size 432x288 with 1 Axes>"
            ]
          },
          "metadata": {
            "tags": []
          }
        }
      ]
    },
    {
      "cell_type": "code",
      "metadata": {
        "id": "2zDpSeU9kJAp",
        "colab_type": "code",
        "outputId": "11b0d0a7-aa61-4487-c093-65d4f05a1397",
        "colab": {
          "base_uri": "https://localhost:8080/",
          "height": 295
        }
      },
      "source": [
        "ACC=hist.history['acc']+hist1.history['acc']\n",
        "VAL_ACC=hist.history['val_acc']+hist1.history['val_acc']\n",
        "plt.plot(ACC, label='Accuracy (testing data)')\n",
        "LOSS=hist.history['loss']+hist1.history['loss']\n",
        "VAL_LOSS=hist.history['val_loss']+hist1.history['val_loss']\n",
        "\n",
        "plt.plot(LOSS, label='MAE (testing data)')\n",
        "plt.plot(VAL_LOSS, label='MAE (validation data)')\n",
        "\n",
        "plt.plot(VAL_ACC, label='Accuracy (validation data)')\n",
        "plt.title('Accuracy')\n",
        "plt.ylabel('Accuary value')\n",
        "plt.xlabel('No. epoch')\n",
        "plt.legend()\n",
        "plt.show()\n"
      ],
      "execution_count": 0,
      "outputs": [
        {
          "output_type": "display_data",
          "data": {
            "image/png": "[encoded data removed]",
            "text/plain": [
              "<Figure size 432x288 with 1 Axes>"
            ]
          },
          "metadata": {
            "tags": []
          }
        }
      ]
    },
    {
      "cell_type": "code",
      "metadata": {
        "id": "j0e9WASGnRNF",
        "colab_type": "code",
        "colab": {}
      },
      "source": [
        "test_hist=new_vgg.evaluate_generator(\n",
        "    test_generator,\n",
        "    steps=91\n",
        ")"
      ],
      "execution_count": 0,
      "outputs": []
    },
    {
      "cell_type": "code",
      "metadata": {
        "id": "JLW-BE7snLPi",
        "colab_type": "code",
        "outputId": "45d622ff-350b-415f-e0be-86eb4bd162fd",
        "colab": {
          "base_uri": "https://localhost:8080/",
          "height": 34
        }
      },
      "source": [
        "test_hist"
      ],
      "execution_count": 0,
      "outputs": [
        {
          "output_type": "execute_result",
          "data": {
            "text/plain": [
              "[0.1834191476291538, 0.9441360166551006]"
            ]
          },
          "metadata": {
            "tags": []
          },
          "execution_count": 64
        }
      ]
    },
    {
      "cell_type": "markdown",
      "metadata": {
        "id": "E1NutoIrlgnw",
        "colab_type": "text"
      },
      "source": [
        "#VGG ( Fine Tuning)-6\n",
        "\n",
        "\n"
      ]
    },
    {
      "cell_type": "code",
      "metadata": {
        "id": "Y7zr199PkzGm",
        "colab_type": "code",
        "colab": {}
      },
      "source": [
        "vgg=VGG16(include_top=False, weights='imagenet', input_shape=(150,150,3))\n",
        "adam=optimizers.adam(lr=1e-4)\n",
        "vgg.compile(loss='categorical_crossentropy',optimizer=adam,metrics=['acc'])\n"
      ],
      "execution_count": 0,
      "outputs": []
    },
    {
      "cell_type": "code",
      "metadata": {
        "id": "DlhKL0dwnemX",
        "colab_type": "code",
        "outputId": "438f62a5-b625-448b-9587-21f87b26e683",
        "colab": {
          "base_uri": "https://localhost:8080/",
          "height": 71
        }
      },
      "source": [
        "av1=GlobalAveragePooling2D()(vgg.output)\n",
        "fc1=Dense(256,activation='relu')(av1)\n",
        "d1=Dropout(0.5)(fc1)\n",
        "fc2=Dense(2,activation='softmax')(d1)\n",
        "\n",
        "new_vgg=Model(input=vgg.input,output=fc2)"
      ],
      "execution_count": 0,
      "outputs": [
        {
          "output_type": "stream",
          "text": [
            "/usr/local/lib/python3.6/dist-packages/ipykernel_launcher.py:6: UserWarning: Update your `Model` call to the Keras 2 API: `Model(inputs=Tensor(\"in..., outputs=Tensor(\"de...)`\n",
            "  \n"
          ],
          "name": "stderr"
        }
      ]
    },
    {
      "cell_type": "code",
      "metadata": {
        "id": "PkB1NLpLoykZ",
        "colab_type": "code",
        "outputId": "337fc407-c6c0-41f3-9e41-54898b7b4063",
        "colab": {
          "base_uri": "https://localhost:8080/",
          "height": 935
        }
      },
      "source": [
        "for ix in range(7):\n",
        "  new_vgg.layers[ix].trainable=False\n",
        "new_vgg.compile(loss='categorical_crossentropy',optimizer=adam,metrics=['acc'])\n",
        "new_vgg.summary()"
      ],
      "execution_count": 0,
      "outputs": [
        {
          "output_type": "stream",
          "text": [
            "Model: \"model_3\"\n",
            "_________________________________________________________________\n",
            "Layer (type)                 Output Shape              Param #   \n",
            "=================================================================\n",
            "input_4 (InputLayer)         (None, 150, 150, 3)       0         \n",
            "_________________________________________________________________\n",
            "block1_conv1 (Conv2D)        (None, 150, 150, 64)      1792      \n",
            "_________________________________________________________________\n",
            "block1_conv2 (Conv2D)        (None, 150, 150, 64)      36928     \n",
            "_________________________________________________________________\n",
            "block1_pool (MaxPooling2D)   (None, 75, 75, 64)        0         \n",
            "_________________________________________________________________\n",
            "block2_conv1 (Conv2D)        (None, 75, 75, 128)       73856     \n",
            "_________________________________________________________________\n",
            "block2_conv2 (Conv2D)        (None, 75, 75, 128)       147584    \n",
            "_________________________________________________________________\n",
            "block2_pool (MaxPooling2D)   (None, 37, 37, 128)       0         \n",
            "_________________________________________________________________\n",
            "block3_conv1 (Conv2D)        (None, 37, 37, 256)       295168    \n",
            "_________________________________________________________________\n",
            "block3_conv2 (Conv2D)        (None, 37, 37, 256)       590080    \n",
            "_________________________________________________________________\n",
            "block3_conv3 (Conv2D)        (None, 37, 37, 256)       590080    \n",
            "_________________________________________________________________\n",
            "block3_pool (MaxPooling2D)   (None, 18, 18, 256)       0         \n",
            "_________________________________________________________________\n",
            "block4_conv1 (Conv2D)        (None, 18, 18, 512)       1180160   \n",
            "_________________________________________________________________\n",
            "block4_conv2 (Conv2D)        (None, 18, 18, 512)       2359808   \n",
            "_________________________________________________________________\n",
            "block4_conv3 (Conv2D)        (None, 18, 18, 512)       2359808   \n",
            "_________________________________________________________________\n",
            "block4_pool (MaxPooling2D)   (None, 9, 9, 512)         0         \n",
            "_________________________________________________________________\n",
            "block5_conv1 (Conv2D)        (None, 9, 9, 512)         2359808   \n",
            "_________________________________________________________________\n",
            "block5_conv2 (Conv2D)        (None, 9, 9, 512)         2359808   \n",
            "_________________________________________________________________\n",
            "block5_conv3 (Conv2D)        (None, 9, 9, 512)         2359808   \n",
            "_________________________________________________________________\n",
            "block5_pool (MaxPooling2D)   (None, 4, 4, 512)         0         \n",
            "_________________________________________________________________\n",
            "global_average_pooling2d_3 ( (None, 512)               0         \n",
            "_________________________________________________________________\n",
            "dense_5 (Dense)              (None, 256)               131328    \n",
            "_________________________________________________________________\n",
            "dropout_3 (Dropout)          (None, 256)               0         \n",
            "_________________________________________________________________\n",
            "dense_6 (Dense)              (None, 2)                 514       \n",
            "=================================================================\n",
            "Total params: 14,846,530\n",
            "Trainable params: 14,586,370\n",
            "Non-trainable params: 260,160\n",
            "_________________________________________________________________\n"
          ],
          "name": "stdout"
        }
      ]
    },
    {
      "cell_type": "code",
      "metadata": {
        "id": "KA2kkRQ4q5PY",
        "colab_type": "code",
        "outputId": "109da8ea-1f69-456b-95cc-cd77abd6a55e",
        "colab": {
          "base_uri": "https://localhost:8080/",
          "height": 527
        }
      },
      "source": [
        "hist=new_vgg.fit_generator(\n",
        "    train_generator,\n",
        "    epochs=15,\n",
        "    steps_per_epoch=851,\n",
        "    validation_data=val_generator,\n",
        "    validation_steps=12\n",
        "    )"
      ],
      "execution_count": 0,
      "outputs": [
        {
          "output_type": "stream",
          "text": [
            "Epoch 1/15\n",
            "851/851 [==============================] - 161s 189ms/step - loss: 0.5215 - acc: 0.7376 - val_loss: 0.3278 - val_acc: 0.8438\n",
            "Epoch 2/15\n",
            "851/851 [==============================] - 161s 189ms/step - loss: 0.3354 - acc: 0.8588 - val_loss: 0.1937 - val_acc: 0.9193\n",
            "Epoch 3/15\n",
            "851/851 [==============================] - 159s 186ms/step - loss: 0.2699 - acc: 0.8913 - val_loss: 0.1894 - val_acc: 0.9271\n",
            "Epoch 4/15\n",
            "851/851 [==============================] - 159s 187ms/step - loss: 0.2451 - acc: 0.9007 - val_loss: 0.1665 - val_acc: 0.9297\n",
            "Epoch 5/15\n",
            "851/851 [==============================] - 159s 187ms/step - loss: 0.2160 - acc: 0.9143 - val_loss: 0.2070 - val_acc: 0.9271\n",
            "Epoch 6/15\n",
            "851/851 [==============================] - 159s 187ms/step - loss: 0.2009 - acc: 0.9204 - val_loss: 0.1884 - val_acc: 0.9115\n",
            "Epoch 7/15\n",
            "851/851 [==============================] - 158s 186ms/step - loss: 0.1789 - acc: 0.9301 - val_loss: 0.2087 - val_acc: 0.9193\n",
            "Epoch 8/15\n",
            "851/851 [==============================] - 159s 187ms/step - loss: 0.1630 - acc: 0.9347 - val_loss: 0.1850 - val_acc: 0.9349\n",
            "Epoch 9/15\n",
            "851/851 [==============================] - 159s 186ms/step - loss: 0.1523 - acc: 0.9417 - val_loss: 0.1528 - val_acc: 0.9453\n",
            "Epoch 10/15\n",
            "851/851 [==============================] - 159s 186ms/step - loss: 0.1339 - acc: 0.9469 - val_loss: 0.1132 - val_acc: 0.9635\n",
            "Epoch 11/15\n",
            "851/851 [==============================] - 160s 188ms/step - loss: 0.1252 - acc: 0.9507 - val_loss: 0.2108 - val_acc: 0.9141\n",
            "Epoch 12/15\n",
            "851/851 [==============================] - 162s 191ms/step - loss: 0.1172 - acc: 0.9550 - val_loss: 0.1733 - val_acc: 0.9453\n",
            "Epoch 13/15\n",
            "851/851 [==============================] - 163s 191ms/step - loss: 0.1022 - acc: 0.9604 - val_loss: 0.1076 - val_acc: 0.9557\n",
            "Epoch 14/15\n",
            "851/851 [==============================] - 160s 188ms/step - loss: 0.0970 - acc: 0.9617 - val_loss: 0.1189 - val_acc: 0.9557\n",
            "Epoch 15/15\n",
            "851/851 [==============================] - 160s 188ms/step - loss: 0.0907 - acc: 0.9659 - val_loss: 0.1633 - val_acc: 0.9453\n"
          ],
          "name": "stdout"
        }
      ]
    },
    {
      "cell_type": "code",
      "metadata": {
        "id": "qWoIngozrW2g",
        "colab_type": "code",
        "outputId": "95b726aa-d919-4247-eaa9-1c04d8ddea20",
        "colab": {
          "base_uri": "https://localhost:8080/",
          "height": 119
        }
      },
      "source": [
        "hist1=new_vgg.fit_generator(\n",
        "    train_generator,\n",
        "    epochs=3,\n",
        "    steps_per_epoch=851,\n",
        "    validation_data=val_generator,\n",
        "    validation_steps=12\n",
        "    )"
      ],
      "execution_count": 0,
      "outputs": [
        {
          "output_type": "stream",
          "text": [
            "Epoch 1/3\n",
            "851/851 [==============================] - 157s 185ms/step - loss: 0.0883 - acc: 0.9672 - val_loss: 0.1528 - val_acc: 0.9505\n",
            "Epoch 2/3\n",
            "851/851 [==============================] - 158s 186ms/step - loss: 0.0827 - acc: 0.9678 - val_loss: 0.1557 - val_acc: 0.9401\n",
            "Epoch 3/3\n",
            "851/851 [==============================] - 158s 186ms/step - loss: 0.0763 - acc: 0.9711 - val_loss: 0.2043 - val_acc: 0.9349\n"
          ],
          "name": "stdout"
        }
      ]
    },
    {
      "cell_type": "code",
      "metadata": {
        "id": "nQBYv_W_2wW7",
        "colab_type": "code",
        "outputId": "d85636f4-22d4-4893-c74a-0d158b8a2e1e",
        "colab": {
          "base_uri": "https://localhost:8080/",
          "height": 295
        }
      },
      "source": [
        "ACC=hist.history['acc']+hist1.history['acc']\n",
        "VAL_ACC=hist.history['val_acc']+hist1.history['val_acc']\n",
        "# Plot history: Accuracy\n",
        "plt.plot(ACC, label='Accuracy (testing data)')\n",
        "plt.plot(VAL_ACC, label='Accuracy (validation data)')\n",
        "plt.title('Accuracy')\n",
        "plt.ylabel('Accuary value')\n",
        "plt.xlabel('No. epoch')\n",
        "plt.legend()\n",
        "plt.show()\n"
      ],
      "execution_count": 0,
      "outputs": [
        {
          "output_type": "display_data",
          "data": {
            "image/png": "[encoded data removed]",
            "text/plain": [
              "<Figure size 432x288 with 1 Axes>"
            ]
          },
          "metadata": {
            "tags": []
          }
        }
      ]
    },
    {
      "cell_type": "code",
      "metadata": {
        "id": "fMFSuzTP49QU",
        "colab_type": "code",
        "outputId": "d72118cb-3df8-409d-aafb-8306c4166076",
        "colab": {
          "base_uri": "https://localhost:8080/",
          "height": 295
        }
      },
      "source": [
        "LOSS=hist.history['loss']+hist1.history['loss']\n",
        "VAL_LOSS=hist.history['val_loss']+hist1.history['val_loss']\n",
        "\n",
        "plt.plot(LOSS, label='MAE (testing data)')\n",
        "plt.plot(VAL_LOSS, label='MAE (validation data)')\n",
        "plt.title('Mean Absolute Error')\n",
        "plt.ylabel('Value')\n",
        "plt.xlabel('No. epoch')\n",
        "plt.legend()\n",
        "plt.show()\n"
      ],
      "execution_count": 0,
      "outputs": [
        {
          "output_type": "display_data",
          "data": {
            "image/png": "[encoded data removed]",
            "text/plain": [
              "<Figure size 432x288 with 1 Axes>"
            ]
          },
          "metadata": {
            "tags": []
          }
        }
      ]
    },
    {
      "cell_type": "code",
      "metadata": {
        "id": "4GbueOPm5CAa",
        "colab_type": "code",
        "outputId": "c5d78d36-5f0e-4b9c-c12e-c809cf734c68",
        "colab": {
          "base_uri": "https://localhost:8080/",
          "height": 295
        }
      },
      "source": [
        "\n",
        "ACC=hist.history['acc']+hist1.history['acc']\n",
        "VAL_ACC=hist.history['val_acc']+hist1.history['val_acc']\n",
        "plt.plot(ACC, label='Accuracy (testing data)')\n",
        "LOSS=hist.history['loss']+hist1.history['loss']\n",
        "VAL_LOSS=hist.history['val_loss']+hist1.history['val_loss']\n",
        "\n",
        "plt.plot(LOSS, label='MAE (testing data)')\n",
        "plt.plot(VAL_LOSS, label='MAE (validation data)')\n",
        "\n",
        "plt.plot(VAL_ACC, label='Accuracy (validation data)')\n",
        "plt.title('History')\n",
        "plt.ylabel(' value')\n",
        "plt.xlabel('No. epoch')\n",
        "plt.legend()\n",
        "plt.show()\n"
      ],
      "execution_count": 0,
      "outputs": [
        {
          "output_type": "display_data",
          "data": {
            "image/png": "[encoded data removed]",
            "text/plain": [
              "<Figure size 432x288 with 1 Axes>"
            ]
          },
          "metadata": {
            "tags": []
          }
        }
      ]
    },
    {
      "cell_type": "code",
      "metadata": {
        "id": "Bd0ol-CZ5Rmg",
        "colab_type": "code",
        "colab": {}
      },
      "source": [
        "test_hist=new_vgg.evaluate_generator(\n",
        "    test_generator,\n",
        "    steps=91\n",
        ")"
      ],
      "execution_count": 0,
      "outputs": []
    },
    {
      "cell_type": "code",
      "metadata": {
        "id": "OjZpT1W55fe3",
        "colab_type": "code",
        "outputId": "6a8e95bf-3ea1-4563-df90-eeccec0c8739",
        "colab": {
          "base_uri": "https://localhost:8080/",
          "height": 34
        }
      },
      "source": [
        "test_hist"
      ],
      "execution_count": 0,
      "outputs": [
        {
          "output_type": "execute_result",
          "data": {
            "text/plain": [
              "[0.23233760974779052, 0.9399722414989591]"
            ]
          },
          "metadata": {
            "tags": []
          },
          "execution_count": 76
        }
      ]
    },
    {
      "cell_type": "code",
      "metadata": {
        "id": "Ya6A-czm5hQj",
        "colab_type": "code",
        "colab": {}
      },
      "source": [
        ""
      ],
      "execution_count": 0,
      "outputs": []
    }
  ]
}